{
 "cells": [
  {
   "cell_type": "code",
   "execution_count": 1,
   "metadata": {},
   "outputs": [],
   "source": [
    "import types\n",
    "import pandas as pd\n",
    "from sklearn import preprocessing\n",
    "import gc"
   ]
  },
  {
   "cell_type": "markdown",
   "metadata": {},
   "source": [
    "Lendo o dataset de teste"
   ]
  },
  {
   "cell_type": "code",
   "execution_count": 2,
   "metadata": {},
   "outputs": [],
   "source": [
    "testData = pd.read_json('C:/Users/hgfer/OneDrive/Documentos/Projeto ZAP/ZAP/source-4-ds-test.json',lines = True)"
   ]
  },
  {
   "cell_type": "code",
   "execution_count": 3,
   "metadata": {
    "scrolled": true
   },
   "outputs": [
    {
     "data": {
      "text/html": [
       "<div>\n",
       "<style scoped>\n",
       "    .dataframe tbody tr th:only-of-type {\n",
       "        vertical-align: middle;\n",
       "    }\n",
       "\n",
       "    .dataframe tbody tr th {\n",
       "        vertical-align: top;\n",
       "    }\n",
       "\n",
       "    .dataframe thead th {\n",
       "        text-align: right;\n",
       "    }\n",
       "</style>\n",
       "<table border=\"1\" class=\"dataframe\">\n",
       "  <thead>\n",
       "    <tr style=\"text-align: right;\">\n",
       "      <th></th>\n",
       "      <th>address</th>\n",
       "      <th>bathrooms</th>\n",
       "      <th>bedrooms</th>\n",
       "      <th>createdAt</th>\n",
       "      <th>description</th>\n",
       "      <th>id</th>\n",
       "      <th>images</th>\n",
       "      <th>listingStatus</th>\n",
       "      <th>owner</th>\n",
       "      <th>parkingSpaces</th>\n",
       "      <th>pricingInfos</th>\n",
       "      <th>publicationType</th>\n",
       "      <th>publisherId</th>\n",
       "      <th>suites</th>\n",
       "      <th>title</th>\n",
       "      <th>totalAreas</th>\n",
       "      <th>unitTypes</th>\n",
       "      <th>updatedAt</th>\n",
       "      <th>usableAreas</th>\n",
       "    </tr>\n",
       "  </thead>\n",
       "  <tbody>\n",
       "    <tr>\n",
       "      <th>0</th>\n",
       "      <td>{'country': 'BR', 'zipCode': '01415000', 'city...</td>\n",
       "      <td>1.0</td>\n",
       "      <td>1</td>\n",
       "      <td>2015-10-20T20:52:41Z</td>\n",
       "      <td>Apartamentos de 1 dormitÃ³rio na Rua Bela Cint...</td>\n",
       "      <td>89224365f8</td>\n",
       "      <td>[https://s3-sa-east-1.amazonaws.com/vr.images....</td>\n",
       "      <td>ACTIVE</td>\n",
       "      <td>False</td>\n",
       "      <td>1.0</td>\n",
       "      <td>{'price': None, 'businessType': 'SALE'}</td>\n",
       "      <td>STANDARD</td>\n",
       "      <td>967d57ce20</td>\n",
       "      <td>0.0</td>\n",
       "      <td>Apartamento Bela Cintra</td>\n",
       "      <td>47.0</td>\n",
       "      <td>APARTMENT</td>\n",
       "      <td>2018-11-08T15:02:53.953Z</td>\n",
       "      <td>47.0</td>\n",
       "    </tr>\n",
       "    <tr>\n",
       "      <th>1</th>\n",
       "      <td>{'country': 'BR', 'zipCode': '03152155', 'city...</td>\n",
       "      <td>0.0</td>\n",
       "      <td>2</td>\n",
       "      <td>2018-07-31T06:10:07.427Z</td>\n",
       "      <td>Ã“tima localizaÃ§Ã£o, prÃ³ximo ao shopping Cen...</td>\n",
       "      <td>363731333f</td>\n",
       "      <td>[http://images.ingaiasites.com.br/AolwiwJLLpET...</td>\n",
       "      <td>ACTIVE</td>\n",
       "      <td>False</td>\n",
       "      <td>1.0</td>\n",
       "      <td>{'yearlyIptu': 0, 'price': None, 'businessType...</td>\n",
       "      <td>STANDARD</td>\n",
       "      <td>bddebf057a</td>\n",
       "      <td>0.0</td>\n",
       "      <td>Apartamento residencial Ã  venda, Quinta da Pa...</td>\n",
       "      <td>55.0</td>\n",
       "      <td>APARTMENT</td>\n",
       "      <td>2018-11-08T16:10:49.374Z</td>\n",
       "      <td>55.0</td>\n",
       "    </tr>\n",
       "  </tbody>\n",
       "</table>\n",
       "</div>"
      ],
      "text/plain": [
       "                                             address  bathrooms  bedrooms  \\\n",
       "0  {'country': 'BR', 'zipCode': '01415000', 'city...        1.0         1   \n",
       "1  {'country': 'BR', 'zipCode': '03152155', 'city...        0.0         2   \n",
       "\n",
       "                  createdAt  \\\n",
       "0      2015-10-20T20:52:41Z   \n",
       "1  2018-07-31T06:10:07.427Z   \n",
       "\n",
       "                                         description          id  \\\n",
       "0  Apartamentos de 1 dormitÃ³rio na Rua Bela Cint...  89224365f8   \n",
       "1  Ã“tima localizaÃ§Ã£o, prÃ³ximo ao shopping Cen...  363731333f   \n",
       "\n",
       "                                              images listingStatus  owner  \\\n",
       "0  [https://s3-sa-east-1.amazonaws.com/vr.images....        ACTIVE  False   \n",
       "1  [http://images.ingaiasites.com.br/AolwiwJLLpET...        ACTIVE  False   \n",
       "\n",
       "   parkingSpaces                                       pricingInfos  \\\n",
       "0            1.0            {'price': None, 'businessType': 'SALE'}   \n",
       "1            1.0  {'yearlyIptu': 0, 'price': None, 'businessType...   \n",
       "\n",
       "  publicationType publisherId  suites  \\\n",
       "0        STANDARD  967d57ce20     0.0   \n",
       "1        STANDARD  bddebf057a     0.0   \n",
       "\n",
       "                                               title  totalAreas  unitTypes  \\\n",
       "0                            Apartamento Bela Cintra        47.0  APARTMENT   \n",
       "1  Apartamento residencial Ã  venda, Quinta da Pa...        55.0  APARTMENT   \n",
       "\n",
       "                  updatedAt  usableAreas  \n",
       "0  2018-11-08T15:02:53.953Z         47.0  \n",
       "1  2018-11-08T16:10:49.374Z         55.0  "
      ]
     },
     "execution_count": 3,
     "metadata": {},
     "output_type": "execute_result"
    }
   ],
   "source": [
    "testData.head(2)"
   ]
  },
  {
   "cell_type": "markdown",
   "metadata": {},
   "source": [
    "Lendo o dataset de treino\n"
   ]
  },
  {
   "cell_type": "code",
   "execution_count": 4,
   "metadata": {},
   "outputs": [],
   "source": [
    "trainData = pd.read_json('C:/Users/hgfer/OneDrive/Documentos/Projeto ZAP/ZAP/source-4-ds-train.json', lines = True)"
   ]
  },
  {
   "cell_type": "code",
   "execution_count": 5,
   "metadata": {},
   "outputs": [
    {
     "data": {
      "text/html": [
       "<div>\n",
       "<style scoped>\n",
       "    .dataframe tbody tr th:only-of-type {\n",
       "        vertical-align: middle;\n",
       "    }\n",
       "\n",
       "    .dataframe tbody tr th {\n",
       "        vertical-align: top;\n",
       "    }\n",
       "\n",
       "    .dataframe thead th {\n",
       "        text-align: right;\n",
       "    }\n",
       "</style>\n",
       "<table border=\"1\" class=\"dataframe\">\n",
       "  <thead>\n",
       "    <tr style=\"text-align: right;\">\n",
       "      <th></th>\n",
       "      <th>address</th>\n",
       "      <th>bathrooms</th>\n",
       "      <th>bedrooms</th>\n",
       "      <th>createdAt</th>\n",
       "      <th>description</th>\n",
       "      <th>id</th>\n",
       "      <th>images</th>\n",
       "      <th>listingStatus</th>\n",
       "      <th>owner</th>\n",
       "      <th>parkingSpaces</th>\n",
       "      <th>pricingInfos</th>\n",
       "      <th>publicationType</th>\n",
       "      <th>publisherId</th>\n",
       "      <th>suites</th>\n",
       "      <th>title</th>\n",
       "      <th>totalAreas</th>\n",
       "      <th>unitTypes</th>\n",
       "      <th>updatedAt</th>\n",
       "      <th>usableAreas</th>\n",
       "    </tr>\n",
       "  </thead>\n",
       "  <tbody>\n",
       "    <tr>\n",
       "      <th>0</th>\n",
       "      <td>{'country': 'BR', 'zipCode': '04290030', 'city...</td>\n",
       "      <td>3.0</td>\n",
       "      <td>4.0</td>\n",
       "      <td>2017-02-07T13:21:40Z</td>\n",
       "      <td>04 dorms sendo 01 suÃ­te e closet, sala de est...</td>\n",
       "      <td>787c7bd19d</td>\n",
       "      <td>[https://s3-sa-east-1.amazonaws.com/vr.images....</td>\n",
       "      <td>ACTIVE</td>\n",
       "      <td>False</td>\n",
       "      <td>6.0</td>\n",
       "      <td>{'price': 700000, 'businessType': 'SALE'}</td>\n",
       "      <td>STANDARD</td>\n",
       "      <td>f4603b2b52</td>\n",
       "      <td>1.0</td>\n",
       "      <td>PRÃ“XIMO A AVENIDA PRESIDENTE TANCREDO NEVES</td>\n",
       "      <td>388.0</td>\n",
       "      <td>TWO_STORY_HOUSE</td>\n",
       "      <td>2018-12-06T19:27:12.623Z</td>\n",
       "      <td>388.0</td>\n",
       "    </tr>\n",
       "    <tr>\n",
       "      <th>1</th>\n",
       "      <td>{'country': 'BR', 'zipCode': '04187320', 'city...</td>\n",
       "      <td>2.0</td>\n",
       "      <td>3.0</td>\n",
       "      <td>2016-03-21T18:35:17Z</td>\n",
       "      <td>03 dorms sendo 01 suÃ­te, sala, sala de jantar...</td>\n",
       "      <td>4d68c0cdbe</td>\n",
       "      <td>[https://s3-sa-east-1.amazonaws.com/vr.images....</td>\n",
       "      <td>ACTIVE</td>\n",
       "      <td>False</td>\n",
       "      <td>2.0</td>\n",
       "      <td>{'price': 336000, 'businessType': 'SALE'}</td>\n",
       "      <td>STANDARD</td>\n",
       "      <td>f4603b2b52</td>\n",
       "      <td>1.0</td>\n",
       "      <td>PRÃ“XIMO A FACULDADE UNIP CAMPUS ANCHIETA</td>\n",
       "      <td>129.0</td>\n",
       "      <td>HOME</td>\n",
       "      <td>2018-12-12T13:17:23.547Z</td>\n",
       "      <td>129.0</td>\n",
       "    </tr>\n",
       "  </tbody>\n",
       "</table>\n",
       "</div>"
      ],
      "text/plain": [
       "                                             address  bathrooms  bedrooms  \\\n",
       "0  {'country': 'BR', 'zipCode': '04290030', 'city...        3.0       4.0   \n",
       "1  {'country': 'BR', 'zipCode': '04187320', 'city...        2.0       3.0   \n",
       "\n",
       "              createdAt                                        description  \\\n",
       "0  2017-02-07T13:21:40Z  04 dorms sendo 01 suÃ­te e closet, sala de est...   \n",
       "1  2016-03-21T18:35:17Z  03 dorms sendo 01 suÃ­te, sala, sala de jantar...   \n",
       "\n",
       "           id                                             images  \\\n",
       "0  787c7bd19d  [https://s3-sa-east-1.amazonaws.com/vr.images....   \n",
       "1  4d68c0cdbe  [https://s3-sa-east-1.amazonaws.com/vr.images....   \n",
       "\n",
       "  listingStatus  owner  parkingSpaces  \\\n",
       "0        ACTIVE  False            6.0   \n",
       "1        ACTIVE  False            2.0   \n",
       "\n",
       "                                pricingInfos publicationType publisherId  \\\n",
       "0  {'price': 700000, 'businessType': 'SALE'}        STANDARD  f4603b2b52   \n",
       "1  {'price': 336000, 'businessType': 'SALE'}        STANDARD  f4603b2b52   \n",
       "\n",
       "   suites                                         title  totalAreas  \\\n",
       "0     1.0  PRÃ“XIMO A AVENIDA PRESIDENTE TANCREDO NEVES       388.0   \n",
       "1     1.0     PRÃ“XIMO A FACULDADE UNIP CAMPUS ANCHIETA       129.0   \n",
       "\n",
       "         unitTypes                 updatedAt  usableAreas  \n",
       "0  TWO_STORY_HOUSE  2018-12-06T19:27:12.623Z        388.0  \n",
       "1             HOME  2018-12-12T13:17:23.547Z        129.0  "
      ]
     },
     "execution_count": 5,
     "metadata": {},
     "output_type": "execute_result"
    }
   ],
   "source": [
    "trainData.head(2)"
   ]
  },
  {
   "cell_type": "markdown",
   "metadata": {},
   "source": [
    "# Data Preparation"
   ]
  },
  {
   "cell_type": "markdown",
   "metadata": {},
   "source": [
    "## Address"
   ]
  },
  {
   "cell_type": "markdown",
   "metadata": {},
   "source": [
    "### Zone"
   ]
  },
  {
   "cell_type": "markdown",
   "metadata": {},
   "source": [
    "Verificou-se quantas quais zonas da cidade temos no dataset de treino"
   ]
  },
  {
   "cell_type": "code",
   "execution_count": 6,
   "metadata": {},
   "outputs": [],
   "source": [
    "uniqueZoneTrain = []\n",
    "for add in trainData.address:\n",
    "    if add['zone'] not in uniqueZoneTrain:\n",
    "        uniqueZoneTrain.append(add['zone'])"
   ]
  },
  {
   "cell_type": "code",
   "execution_count": 7,
   "metadata": {},
   "outputs": [
    {
     "data": {
      "text/plain": [
       "['Zona Sul', '', 'Zona Leste', 'Zona Oeste', 'Centro', 'Zona Norte']"
      ]
     },
     "execution_count": 7,
     "metadata": {},
     "output_type": "execute_result"
    }
   ],
   "source": [
    "uniqueZoneTrain"
   ]
  },
  {
   "cell_type": "markdown",
   "metadata": {},
   "source": [
    "Costam 5 zonas: Sul, Leste, Oeste, Norte, Centro e alguns não possuem esta informação."
   ]
  },
  {
   "cell_type": "markdown",
   "metadata": {},
   "source": [
    "Notou-se que para os imóveis que possuem a feature zone vazia, é possivel obtê-la a partir da feature locationId.  "
   ]
  },
  {
   "cell_type": "code",
   "execution_count": 8,
   "metadata": {},
   "outputs": [],
   "source": [
    "zoneTrain = []\n",
    "for i in range(trainData.shape[0]):\n",
    "    if trainData.address[i].get(\"zone\") == '':\n",
    "        zoneTrain.append(trainData.address[i].get(\"locationId\"))\n",
    "    else:\n",
    "        zoneTrain.append(trainData.address[i].get(\"zone\"))"
   ]
  },
  {
   "cell_type": "markdown",
   "metadata": {},
   "source": [
    "É necessário realizar algumas alterações nas linhas que receberam a feature locationId ('BR>Sao Paulo>NULL>Sao Paulo>Centro>Cerqueira Cesar'), já que sua estrutura é diferente de zone ('Centro')"
   ]
  },
  {
   "cell_type": "code",
   "execution_count": 9,
   "metadata": {},
   "outputs": [],
   "source": [
    "for i in range(len(zoneTrain)):\n",
    "    if zoneTrain[i][0] == 'B':\n",
    "        zoneTrain[i] = zoneTrain[i][28:34]\n"
   ]
  },
  {
   "cell_type": "markdown",
   "metadata": {},
   "source": [
    "Transformando em pandas "
   ]
  },
  {
   "cell_type": "code",
   "execution_count": 10,
   "metadata": {},
   "outputs": [],
   "source": [
    "zone = pd.DataFrame(zoneTrain,columns = ['zone'])"
   ]
  },
  {
   "cell_type": "markdown",
   "metadata": {},
   "source": [
    "Padronizando as zonas"
   ]
  },
  {
   "cell_type": "code",
   "execution_count": 11,
   "metadata": {},
   "outputs": [],
   "source": [
    "zone.loc[zone[\"zone\"] == \"Zona S\"] = \"Zona Sul\"\n",
    "zone.loc[zone[\"zone\"] == \"Zona L\"] = \"Zona Leste\"\n",
    "zone.loc[zone[\"zone\"] == \"Zona O\"] = \"Zona Oeste\"\n",
    "zone.loc[zone[\"zone\"] == \"Zona N\"] = \"Zona Norte\""
   ]
  },
  {
   "cell_type": "markdown",
   "metadata": {},
   "source": [
    "Verificando-se a quantidade de imóveis de cada região"
   ]
  },
  {
   "cell_type": "code",
   "execution_count": 12,
   "metadata": {},
   "outputs": [
    {
     "data": {
      "text/plain": [
       "Zona Sul      48505\n",
       "Zona Norte    28703\n",
       "Zona Leste    24191\n",
       "Zona Oeste    19620\n",
       "Centro        12871\n",
       "                 54\n",
       "rrios>            5\n",
       "rios>C            5\n",
       "rios>V            2\n",
       "e>Barr            1\n",
       "rios>N            1\n",
       "vo Ham            1\n",
       "ios>Ce            1\n",
       "rios>Q            1\n",
       "Barrio            1\n",
       "rios>S            1\n",
       "anto d            1\n",
       "Name: zone, dtype: int64"
      ]
     },
     "execution_count": 12,
     "metadata": {},
     "output_type": "execute_result"
    }
   ],
   "source": [
    "zone[\"zone\"].value_counts()"
   ]
  },
  {
   "cell_type": "markdown",
   "metadata": {},
   "source": [
    "Notou-se que 74 imóveis não se encontram nas zonas pré definidas. E avaliando-se os dados verificou-se que estes imoveis não se encontram na cidade de São Paulo"
   ]
  },
  {
   "cell_type": "code",
   "execution_count": 13,
   "metadata": {},
   "outputs": [
    {
     "data": {
      "text/html": [
       "<div>\n",
       "<style scoped>\n",
       "    .dataframe tbody tr th:only-of-type {\n",
       "        vertical-align: middle;\n",
       "    }\n",
       "\n",
       "    .dataframe tbody tr th {\n",
       "        vertical-align: top;\n",
       "    }\n",
       "\n",
       "    .dataframe thead th {\n",
       "        text-align: right;\n",
       "    }\n",
       "</style>\n",
       "<table border=\"1\" class=\"dataframe\">\n",
       "  <thead>\n",
       "    <tr style=\"text-align: right;\">\n",
       "      <th></th>\n",
       "      <th>zone</th>\n",
       "    </tr>\n",
       "  </thead>\n",
       "  <tbody>\n",
       "    <tr>\n",
       "      <th>23220</th>\n",
       "      <td>rrios&gt;</td>\n",
       "    </tr>\n",
       "    <tr>\n",
       "      <th>57587</th>\n",
       "      <td>rrios&gt;</td>\n",
       "    </tr>\n",
       "    <tr>\n",
       "      <th>91839</th>\n",
       "      <td>rrios&gt;</td>\n",
       "    </tr>\n",
       "    <tr>\n",
       "      <th>118857</th>\n",
       "      <td>rrios&gt;</td>\n",
       "    </tr>\n",
       "    <tr>\n",
       "      <th>133565</th>\n",
       "      <td>rrios&gt;</td>\n",
       "    </tr>\n",
       "  </tbody>\n",
       "</table>\n",
       "</div>"
      ],
      "text/plain": [
       "          zone\n",
       "23220   rrios>\n",
       "57587   rrios>\n",
       "91839   rrios>\n",
       "118857  rrios>\n",
       "133565  rrios>"
      ]
     },
     "execution_count": 13,
     "metadata": {},
     "output_type": "execute_result"
    }
   ],
   "source": [
    "zone.loc[zone[\"zone\"] == \"rrios>\"] "
   ]
  },
  {
   "cell_type": "code",
   "execution_count": 14,
   "metadata": {},
   "outputs": [
    {
     "data": {
      "text/plain": [
       "'BR>Sao Paulo>NULL>Itupeva>Barrios>Jardim Alegre'"
      ]
     },
     "execution_count": 14,
     "metadata": {},
     "output_type": "execute_result"
    }
   ],
   "source": [
    "trainData.address[23220][\"locationId\"]"
   ]
  },
  {
   "cell_type": "markdown",
   "metadata": {},
   "source": [
    "Desta forma consideraremos estes dados como 'Outros', e a feature zone ficará da seguinte forma:"
   ]
  },
  {
   "cell_type": "code",
   "execution_count": 15,
   "metadata": {},
   "outputs": [],
   "source": [
    "zone.loc[zone[\"zone\"] == \"\"] = \"Sem Zona\"\n",
    "zone.loc[zone[\"zone\"] == \"rrios>\"] = \"Fora SP\"\n",
    "zone.loc[zone[\"zone\"] == \"rios>C\"] = \"Fora SP\"\n",
    "zone.loc[zone[\"zone\"] == \"rios>V\"] = \"Fora SP\"\n",
    "zone.loc[zone[\"zone\"] == \"vo Ham\"] = \"Fora SP\"\n",
    "zone.loc[zone[\"zone\"] == \"rios>S\"] = \"Fora SP\"\n",
    "zone.loc[zone[\"zone\"] == \"e>Barr\"] = \"Fora SP\"\n",
    "zone.loc[zone[\"zone\"] == \"ios>Ce\"] = \"Fora SP\"\n",
    "zone.loc[zone[\"zone\"] == \"rios>N\"] = \"Fora SP\"\n",
    "zone.loc[zone[\"zone\"] == \"rios>Q\"] = \"Fora SP\"\n",
    "zone.loc[zone[\"zone\"] == \"anto d\"] = \"Fora SP\"\n",
    "zone.loc[zone[\"zone\"] == \"Barrio\"] = \"Fora SP\""
   ]
  },
  {
   "cell_type": "code",
   "execution_count": 16,
   "metadata": {},
   "outputs": [
    {
     "data": {
      "text/plain": [
       "Zona Sul      48505\n",
       "Zona Norte    28703\n",
       "Zona Leste    24191\n",
       "Zona Oeste    19620\n",
       "Centro        12871\n",
       "Sem Zona         54\n",
       "Fora SP          20\n",
       "Name: zone, dtype: int64"
      ]
     },
     "execution_count": 16,
     "metadata": {},
     "output_type": "execute_result"
    }
   ],
   "source": [
    "zone[\"zone\"].value_counts()"
   ]
  },
  {
   "cell_type": "markdown",
   "metadata": {},
   "source": [
    "Analisando o dataset de teste com relação as regiões dos imóveis"
   ]
  },
  {
   "cell_type": "code",
   "execution_count": 17,
   "metadata": {},
   "outputs": [],
   "source": [
    "zoneTest = []\n",
    "for i in range(testData.shape[0]):\n",
    "    if testData.address[i].get(\"zone\") == '':\n",
    "        zoneTest.append(testData.address[i].get(\"locationId\"))\n",
    "    else:\n",
    "        zoneTest.append(testData.address[i].get(\"zone\"))"
   ]
  },
  {
   "cell_type": "code",
   "execution_count": 18,
   "metadata": {},
   "outputs": [],
   "source": [
    "for i in range(len(zoneTest)):\n",
    "    if zoneTest[i][0] == 'B':\n",
    "        zoneTest[i] = zoneTest[i][28:34]"
   ]
  },
  {
   "cell_type": "code",
   "execution_count": 19,
   "metadata": {},
   "outputs": [],
   "source": [
    "zoneT = pd.DataFrame(zoneTest,columns = ['zone'])"
   ]
  },
  {
   "cell_type": "code",
   "execution_count": 20,
   "metadata": {},
   "outputs": [],
   "source": [
    "zoneT.loc[zoneT[\"zone\"] == \"Zona S\"] = \"Zona Sul\"\n",
    "zoneT.loc[zoneT[\"zone\"] == \"Zona L\"] = \"Zona Leste\"\n",
    "zoneT.loc[zoneT[\"zone\"] == \"Zona O\"] = \"Zona Oeste\"\n",
    "zoneT.loc[zoneT[\"zone\"] == \"Zona N\"] = \"Zona Norte\""
   ]
  },
  {
   "cell_type": "code",
   "execution_count": 21,
   "metadata": {},
   "outputs": [
    {
     "data": {
      "text/plain": [
       "Zona Sul      6278\n",
       "Zona Leste    2876\n",
       "Zona Norte    2853\n",
       "Zona Oeste    2319\n",
       "Centro        1697\n",
       "                11\n",
       "vo Ham           1\n",
       "rios>V           1\n",
       "Name: zone, dtype: int64"
      ]
     },
     "execution_count": 21,
     "metadata": {},
     "output_type": "execute_result"
    }
   ],
   "source": [
    "zoneT[\"zone\"].value_counts()"
   ]
  },
  {
   "cell_type": "code",
   "execution_count": 22,
   "metadata": {},
   "outputs": [
    {
     "data": {
      "text/html": [
       "<div>\n",
       "<style scoped>\n",
       "    .dataframe tbody tr th:only-of-type {\n",
       "        vertical-align: middle;\n",
       "    }\n",
       "\n",
       "    .dataframe tbody tr th {\n",
       "        vertical-align: top;\n",
       "    }\n",
       "\n",
       "    .dataframe thead th {\n",
       "        text-align: right;\n",
       "    }\n",
       "</style>\n",
       "<table border=\"1\" class=\"dataframe\">\n",
       "  <thead>\n",
       "    <tr style=\"text-align: right;\">\n",
       "      <th></th>\n",
       "      <th>zone</th>\n",
       "    </tr>\n",
       "  </thead>\n",
       "  <tbody>\n",
       "    <tr>\n",
       "      <th>5416</th>\n",
       "      <td>rios&gt;V</td>\n",
       "    </tr>\n",
       "  </tbody>\n",
       "</table>\n",
       "</div>"
      ],
      "text/plain": [
       "        zone\n",
       "5416  rios>V"
      ]
     },
     "execution_count": 22,
     "metadata": {},
     "output_type": "execute_result"
    }
   ],
   "source": [
    "zoneT.loc[zoneT[\"zone\"] == \"rios>V\"]"
   ]
  },
  {
   "cell_type": "code",
   "execution_count": 23,
   "metadata": {},
   "outputs": [
    {
     "data": {
      "text/plain": [
       "'BR>Sao Paulo>NULL>Osasco>Barrios>Vila Yara'"
      ]
     },
     "execution_count": 23,
     "metadata": {},
     "output_type": "execute_result"
    }
   ],
   "source": [
    "testData.address[5416].get(\"locationId\")"
   ]
  },
  {
   "cell_type": "code",
   "execution_count": 24,
   "metadata": {},
   "outputs": [],
   "source": [
    "zoneT.loc[zoneT[\"zone\"] == \"vo Ham\"] = \"Fora SP\"\n",
    "zoneT.loc[zoneT[\"zone\"] == \"rios>V\"] = \"Fora SP\"\n",
    "zoneT.loc[zoneT[\"zone\"] == \"\"] = \"Sem Zona\""
   ]
  },
  {
   "cell_type": "code",
   "execution_count": 25,
   "metadata": {},
   "outputs": [
    {
     "data": {
      "text/plain": [
       "Zona Sul      6278\n",
       "Zona Leste    2876\n",
       "Zona Norte    2853\n",
       "Zona Oeste    2319\n",
       "Centro        1697\n",
       "Sem Zona        11\n",
       "Fora SP          2\n",
       "Name: zone, dtype: int64"
      ]
     },
     "execution_count": 25,
     "metadata": {},
     "output_type": "execute_result"
    }
   ],
   "source": [
    "zoneT[\"zone\"].value_counts()"
   ]
  },
  {
   "cell_type": "markdown",
   "metadata": {},
   "source": [
    "Assim como no dataset de treino, há imoveis fora da cidade de São Paulo."
   ]
  },
  {
   "cell_type": "markdown",
   "metadata": {},
   "source": [
    "## PricingInfos"
   ]
  },
  {
   "cell_type": "code",
   "execution_count": 26,
   "metadata": {
    "scrolled": true
   },
   "outputs": [
    {
     "data": {
      "text/html": [
       "<div>\n",
       "<style scoped>\n",
       "    .dataframe tbody tr th:only-of-type {\n",
       "        vertical-align: middle;\n",
       "    }\n",
       "\n",
       "    .dataframe tbody tr th {\n",
       "        vertical-align: top;\n",
       "    }\n",
       "\n",
       "    .dataframe thead th {\n",
       "        text-align: right;\n",
       "    }\n",
       "</style>\n",
       "<table border=\"1\" class=\"dataframe\">\n",
       "  <thead>\n",
       "    <tr style=\"text-align: right;\">\n",
       "      <th></th>\n",
       "      <th>address</th>\n",
       "      <th>bathrooms</th>\n",
       "      <th>bedrooms</th>\n",
       "      <th>createdAt</th>\n",
       "      <th>description</th>\n",
       "      <th>id</th>\n",
       "      <th>images</th>\n",
       "      <th>listingStatus</th>\n",
       "      <th>owner</th>\n",
       "      <th>parkingSpaces</th>\n",
       "      <th>pricingInfos</th>\n",
       "      <th>publicationType</th>\n",
       "      <th>publisherId</th>\n",
       "      <th>suites</th>\n",
       "      <th>title</th>\n",
       "      <th>totalAreas</th>\n",
       "      <th>unitTypes</th>\n",
       "      <th>updatedAt</th>\n",
       "      <th>usableAreas</th>\n",
       "    </tr>\n",
       "  </thead>\n",
       "  <tbody>\n",
       "    <tr>\n",
       "      <th>0</th>\n",
       "      <td>{'country': 'BR', 'zipCode': '04290030', 'city...</td>\n",
       "      <td>3.0</td>\n",
       "      <td>4.0</td>\n",
       "      <td>2017-02-07T13:21:40Z</td>\n",
       "      <td>04 dorms sendo 01 suÃ­te e closet, sala de est...</td>\n",
       "      <td>787c7bd19d</td>\n",
       "      <td>[https://s3-sa-east-1.amazonaws.com/vr.images....</td>\n",
       "      <td>ACTIVE</td>\n",
       "      <td>False</td>\n",
       "      <td>6.0</td>\n",
       "      <td>{'price': 700000, 'businessType': 'SALE'}</td>\n",
       "      <td>STANDARD</td>\n",
       "      <td>f4603b2b52</td>\n",
       "      <td>1.0</td>\n",
       "      <td>PRÃ“XIMO A AVENIDA PRESIDENTE TANCREDO NEVES</td>\n",
       "      <td>388.0</td>\n",
       "      <td>TWO_STORY_HOUSE</td>\n",
       "      <td>2018-12-06T19:27:12.623Z</td>\n",
       "      <td>388.0</td>\n",
       "    </tr>\n",
       "    <tr>\n",
       "      <th>1</th>\n",
       "      <td>{'country': 'BR', 'zipCode': '04187320', 'city...</td>\n",
       "      <td>2.0</td>\n",
       "      <td>3.0</td>\n",
       "      <td>2016-03-21T18:35:17Z</td>\n",
       "      <td>03 dorms sendo 01 suÃ­te, sala, sala de jantar...</td>\n",
       "      <td>4d68c0cdbe</td>\n",
       "      <td>[https://s3-sa-east-1.amazonaws.com/vr.images....</td>\n",
       "      <td>ACTIVE</td>\n",
       "      <td>False</td>\n",
       "      <td>2.0</td>\n",
       "      <td>{'price': 336000, 'businessType': 'SALE'}</td>\n",
       "      <td>STANDARD</td>\n",
       "      <td>f4603b2b52</td>\n",
       "      <td>1.0</td>\n",
       "      <td>PRÃ“XIMO A FACULDADE UNIP CAMPUS ANCHIETA</td>\n",
       "      <td>129.0</td>\n",
       "      <td>HOME</td>\n",
       "      <td>2018-12-12T13:17:23.547Z</td>\n",
       "      <td>129.0</td>\n",
       "    </tr>\n",
       "  </tbody>\n",
       "</table>\n",
       "</div>"
      ],
      "text/plain": [
       "                                             address  bathrooms  bedrooms  \\\n",
       "0  {'country': 'BR', 'zipCode': '04290030', 'city...        3.0       4.0   \n",
       "1  {'country': 'BR', 'zipCode': '04187320', 'city...        2.0       3.0   \n",
       "\n",
       "              createdAt                                        description  \\\n",
       "0  2017-02-07T13:21:40Z  04 dorms sendo 01 suÃ­te e closet, sala de est...   \n",
       "1  2016-03-21T18:35:17Z  03 dorms sendo 01 suÃ­te, sala, sala de jantar...   \n",
       "\n",
       "           id                                             images  \\\n",
       "0  787c7bd19d  [https://s3-sa-east-1.amazonaws.com/vr.images....   \n",
       "1  4d68c0cdbe  [https://s3-sa-east-1.amazonaws.com/vr.images....   \n",
       "\n",
       "  listingStatus  owner  parkingSpaces  \\\n",
       "0        ACTIVE  False            6.0   \n",
       "1        ACTIVE  False            2.0   \n",
       "\n",
       "                                pricingInfos publicationType publisherId  \\\n",
       "0  {'price': 700000, 'businessType': 'SALE'}        STANDARD  f4603b2b52   \n",
       "1  {'price': 336000, 'businessType': 'SALE'}        STANDARD  f4603b2b52   \n",
       "\n",
       "   suites                                         title  totalAreas  \\\n",
       "0     1.0  PRÃ“XIMO A AVENIDA PRESIDENTE TANCREDO NEVES       388.0   \n",
       "1     1.0     PRÃ“XIMO A FACULDADE UNIP CAMPUS ANCHIETA       129.0   \n",
       "\n",
       "         unitTypes                 updatedAt  usableAreas  \n",
       "0  TWO_STORY_HOUSE  2018-12-06T19:27:12.623Z        388.0  \n",
       "1             HOME  2018-12-12T13:17:23.547Z        129.0  "
      ]
     },
     "execution_count": 26,
     "metadata": {},
     "output_type": "execute_result"
    }
   ],
   "source": [
    "trainData.head(2)"
   ]
  },
  {
   "cell_type": "code",
   "execution_count": 27,
   "metadata": {},
   "outputs": [
    {
     "data": {
      "text/plain": [
       "{'period': 'MONTHLY',\n",
       " 'yearlyIptu': 4040,\n",
       " 'price': 24929,\n",
       " 'rentalTotalPrice': 29829,\n",
       " 'businessType': 'RENTAL',\n",
       " 'monthlyCondoFee': 4900}"
      ]
     },
     "execution_count": 27,
     "metadata": {},
     "output_type": "execute_result"
    }
   ],
   "source": [
    "trainData.pricingInfos[2]"
   ]
  },
  {
   "cell_type": "markdown",
   "metadata": {},
   "source": [
    "### Period"
   ]
  },
  {
   "cell_type": "markdown",
   "metadata": {},
   "source": [
    "Transformando a feature period em pandas"
   ]
  },
  {
   "cell_type": "code",
   "execution_count": 28,
   "metadata": {},
   "outputs": [],
   "source": [
    "periodTrain = []\n",
    "for i in range(trainData.shape[0]):\n",
    "    periodTrain.append(trainData.pricingInfos[i].get(\"period\"))"
   ]
  },
  {
   "cell_type": "code",
   "execution_count": 29,
   "metadata": {},
   "outputs": [],
   "source": [
    "period = pd.DataFrame(periodTrain,columns = ['period'])"
   ]
  },
  {
   "cell_type": "code",
   "execution_count": 30,
   "metadata": {},
   "outputs": [
    {
     "data": {
      "text/plain": [
       "MONTHLY    29029\n",
       "DAILY         19\n",
       "YEARLY         3\n",
       "Name: period, dtype: int64"
      ]
     },
     "execution_count": 30,
     "metadata": {},
     "output_type": "execute_result"
    }
   ],
   "source": [
    "period[\"period\"].value_counts()"
   ]
  },
  {
   "cell_type": "markdown",
   "metadata": {},
   "source": [
    "### YearlyIptu"
   ]
  },
  {
   "cell_type": "markdown",
   "metadata": {},
   "source": [
    "Transformando a feature yearlyIptu em pandas\n"
   ]
  },
  {
   "cell_type": "code",
   "execution_count": 31,
   "metadata": {},
   "outputs": [],
   "source": [
    "yearlyIptuTrain = []\n",
    "for i in range(trainData.shape[0]):\n",
    "    yearlyIptuTrain.append(trainData.pricingInfos[i].get(\"yearlyIptu\"))"
   ]
  },
  {
   "cell_type": "code",
   "execution_count": 32,
   "metadata": {},
   "outputs": [],
   "source": [
    "yearlyIptu = pd.DataFrame(yearlyIptuTrain,columns = ['yearlyIptu'])"
   ]
  },
  {
   "cell_type": "markdown",
   "metadata": {},
   "source": [
    "### Price"
   ]
  },
  {
   "cell_type": "markdown",
   "metadata": {},
   "source": [
    "Transformando a feature price em pandas"
   ]
  },
  {
   "cell_type": "code",
   "execution_count": 33,
   "metadata": {},
   "outputs": [],
   "source": [
    "priceTrain = []\n",
    "for i in range(trainData.shape[0]):\n",
    "    priceTrain.append(trainData.pricingInfos[i].get(\"price\"))"
   ]
  },
  {
   "cell_type": "code",
   "execution_count": 34,
   "metadata": {},
   "outputs": [],
   "source": [
    "price = pd.DataFrame(priceTrain,columns = ['price'])"
   ]
  },
  {
   "cell_type": "markdown",
   "metadata": {},
   "source": [
    "### RentalTotalPrice"
   ]
  },
  {
   "cell_type": "markdown",
   "metadata": {},
   "source": [
    "Transformando a feature price em pandas\n"
   ]
  },
  {
   "cell_type": "code",
   "execution_count": 35,
   "metadata": {},
   "outputs": [],
   "source": [
    "rentalTotalPriceTrain = []\n",
    "for i in range(trainData.shape[0]):\n",
    "    rentalTotalPriceTrain.append(trainData.pricingInfos[i].get(\"rentalTotalPrice\"))"
   ]
  },
  {
   "cell_type": "code",
   "execution_count": 36,
   "metadata": {},
   "outputs": [],
   "source": [
    "rentalTotalPrice = pd.DataFrame(rentalTotalPriceTrain,columns = ['rentalTotalPrice'])"
   ]
  },
  {
   "cell_type": "markdown",
   "metadata": {},
   "source": [
    "### BusinessType"
   ]
  },
  {
   "cell_type": "markdown",
   "metadata": {},
   "source": [
    "Transformando a feature businessType em pandas"
   ]
  },
  {
   "cell_type": "code",
   "execution_count": 37,
   "metadata": {},
   "outputs": [],
   "source": [
    "businessTypeTrain = []\n",
    "for i in range(trainData.shape[0]):\n",
    "    businessTypeTrain.append(trainData.pricingInfos[i].get(\"businessType\"))"
   ]
  },
  {
   "cell_type": "code",
   "execution_count": 38,
   "metadata": {},
   "outputs": [],
   "source": [
    "businessType = pd.DataFrame(businessTypeTrain,columns = ['businessType'])"
   ]
  },
  {
   "cell_type": "code",
   "execution_count": 39,
   "metadata": {},
   "outputs": [
    {
     "data": {
      "text/plain": [
       "SALE      105332\n",
       "RENTAL     28632\n",
       "Name: businessType, dtype: int64"
      ]
     },
     "execution_count": 39,
     "metadata": {},
     "output_type": "execute_result"
    }
   ],
   "source": [
    "businessType[\"businessType\"].value_counts()"
   ]
  },
  {
   "cell_type": "markdown",
   "metadata": {},
   "source": [
    "Analisando a composição dos dados do dataset de teste com relção a feature buinessType"
   ]
  },
  {
   "cell_type": "code",
   "execution_count": 40,
   "metadata": {},
   "outputs": [],
   "source": [
    "businessTypeTest = []\n",
    "for i in range(testData.shape[0]):\n",
    "    businessTypeTest.append(testData.pricingInfos[i].get(\"businessType\"))"
   ]
  },
  {
   "cell_type": "code",
   "execution_count": 41,
   "metadata": {},
   "outputs": [],
   "source": [
    "businessTypeT = pd.DataFrame(businessTypeTest,columns = ['businessType'])"
   ]
  },
  {
   "cell_type": "code",
   "execution_count": 42,
   "metadata": {},
   "outputs": [
    {
     "data": {
      "text/plain": [
       "SALE    16036\n",
       "Name: businessType, dtype: int64"
      ]
     },
     "execution_count": 42,
     "metadata": {},
     "output_type": "execute_result"
    }
   ],
   "source": [
    "businessTypeT[\"businessType\"].value_counts()"
   ]
  },
  {
   "cell_type": "code",
   "execution_count": 43,
   "metadata": {},
   "outputs": [
    {
     "data": {
      "text/plain": [
       "(16036, 19)"
      ]
     },
     "execution_count": 43,
     "metadata": {},
     "output_type": "execute_result"
    }
   ],
   "source": [
    "testData.shape"
   ]
  },
  {
   "cell_type": "markdown",
   "metadata": {},
   "source": [
    "No dataset de treino todos as features businessType são SALE, logo todas as features RENTAL podem ser removidas do dataset de treino"
   ]
  },
  {
   "cell_type": "markdown",
   "metadata": {},
   "source": [
    "### MonthlyCondoFee"
   ]
  },
  {
   "cell_type": "markdown",
   "metadata": {},
   "source": [
    "Transformando a feature monthlyCondoFee em pandas"
   ]
  },
  {
   "cell_type": "code",
   "execution_count": 44,
   "metadata": {},
   "outputs": [],
   "source": [
    "monthlyCondoFeeTrain = []\n",
    "for i in range(trainData.shape[0]):\n",
    "    monthlyCondoFeeTrain.append(trainData.pricingInfos[i].get(\"monthlyCondoFee\"))"
   ]
  },
  {
   "cell_type": "code",
   "execution_count": 45,
   "metadata": {},
   "outputs": [],
   "source": [
    "monthlyCondoFee = pd.DataFrame(monthlyCondoFeeTrain,columns = ['monthlyCondoFee'])"
   ]
  },
  {
   "cell_type": "markdown",
   "metadata": {},
   "source": [
    "## UnitTypes"
   ]
  },
  {
   "cell_type": "markdown",
   "metadata": {},
   "source": [
    "Transformando a feature unitTypes em pandas "
   ]
  },
  {
   "cell_type": "code",
   "execution_count": 46,
   "metadata": {},
   "outputs": [],
   "source": [
    "unitTypes = pd.DataFrame(trainData.unitTypes)"
   ]
  },
  {
   "cell_type": "code",
   "execution_count": 47,
   "metadata": {},
   "outputs": [
    {
     "data": {
      "text/plain": [
       "APARTMENT                     72241\n",
       "TWO_STORY_HOUSE               18068\n",
       "HOME                           9030\n",
       "OFFICE                         7714\n",
       "FLAT                           7661\n",
       "COMMERCIAL_PROPERTY            5871\n",
       "CONDOMINIUM                    4015\n",
       "PENTHOUSE                      2772\n",
       "SHED_DEPOSIT_WAREHOUSE         2197\n",
       "RESIDENTIAL_ALLOTMENT_LAND     1430\n",
       "COMMERCIAL_ALLOTMENT_LAND       807\n",
       "STORE                           694\n",
       "BUSINESS                        663\n",
       "KITNET                          522\n",
       "RESIDENTIAL_BUILDING            142\n",
       "COMMERCIAL_BUILDING              85\n",
       "CLINIC                           33\n",
       "FARM                             10\n",
       "COUNTRY_HOUSE                     9\n",
       "Name: unitTypes, dtype: int64"
      ]
     },
     "execution_count": 47,
     "metadata": {},
     "output_type": "execute_result"
    }
   ],
   "source": [
    "unitTypes[\"unitTypes\"].value_counts()"
   ]
  },
  {
   "cell_type": "markdown",
   "metadata": {},
   "source": [
    "Verificando o tipo de imoveis no dataset de treino"
   ]
  },
  {
   "cell_type": "code",
   "execution_count": 48,
   "metadata": {},
   "outputs": [],
   "source": [
    "unitTypesTest = pd.DataFrame(testData.unitTypes)"
   ]
  },
  {
   "cell_type": "code",
   "execution_count": 49,
   "metadata": {},
   "outputs": [
    {
     "data": {
      "text/plain": [
       "APARTMENT    16036\n",
       "Name: unitTypes, dtype: int64"
      ]
     },
     "execution_count": 49,
     "metadata": {},
     "output_type": "execute_result"
    }
   ],
   "source": [
    "unitTypesTest[\"unitTypes\"].value_counts()"
   ]
  },
  {
   "cell_type": "markdown",
   "metadata": {},
   "source": [
    "No dataset de treino todos as features unitType são APARTMENT, logo todas as features diferentes disto podem ser removidas do dataset de treino"
   ]
  },
  {
   "cell_type": "markdown",
   "metadata": {},
   "source": [
    "## TotalAreas"
   ]
  },
  {
   "cell_type": "markdown",
   "metadata": {},
   "source": [
    "Um ponto a se levar em consideração é que as features totalAreas e usableAreas muitas vezes são iguais. Desta forma seria interessante, manter apenas uma das duas."
   ]
  },
  {
   "cell_type": "code",
   "execution_count": 50,
   "metadata": {},
   "outputs": [],
   "source": [
    "vecTotalAreasTrain = []\n",
    "vecUsableAreasTrain = []\n",
    "for i in range(trainData.shape[0]):\n",
    "    vecTotalAreasTrain.append(trainData.totalAreas.get(i))\n",
    "    vecUsableAreasTrain.append(trainData.usableAreas.get(i))\n",
    "    if (vecTotalAreasTrain[i] == 0) & (vecUsableAreasTrain[i]< 400):\n",
    "        vecTotalAreasTrain[i] = vecUsableAreasTrain[i]"
   ]
  },
  {
   "cell_type": "code",
   "execution_count": 51,
   "metadata": {},
   "outputs": [],
   "source": [
    "areaTrain = pd.DataFrame(vecTotalAreasTrain,columns = ['area'])"
   ]
  },
  {
   "cell_type": "markdown",
   "metadata": {},
   "source": [
    "Juntando todos os dados em apenas uma tabela obtém-se"
   ]
  },
  {
   "cell_type": "code",
   "execution_count": 52,
   "metadata": {},
   "outputs": [
    {
     "data": {
      "text/html": [
       "<div>\n",
       "<style scoped>\n",
       "    .dataframe tbody tr th:only-of-type {\n",
       "        vertical-align: middle;\n",
       "    }\n",
       "\n",
       "    .dataframe tbody tr th {\n",
       "        vertical-align: top;\n",
       "    }\n",
       "\n",
       "    .dataframe thead th {\n",
       "        text-align: right;\n",
       "    }\n",
       "</style>\n",
       "<table border=\"1\" class=\"dataframe\">\n",
       "  <thead>\n",
       "    <tr style=\"text-align: right;\">\n",
       "      <th></th>\n",
       "      <th>address</th>\n",
       "      <th>bathrooms</th>\n",
       "      <th>bedrooms</th>\n",
       "      <th>createdAt</th>\n",
       "      <th>description</th>\n",
       "      <th>id</th>\n",
       "      <th>images</th>\n",
       "      <th>listingStatus</th>\n",
       "      <th>owner</th>\n",
       "      <th>parkingSpaces</th>\n",
       "      <th>pricingInfos</th>\n",
       "      <th>publicationType</th>\n",
       "      <th>publisherId</th>\n",
       "      <th>suites</th>\n",
       "      <th>title</th>\n",
       "      <th>totalAreas</th>\n",
       "      <th>unitTypes</th>\n",
       "      <th>updatedAt</th>\n",
       "      <th>usableAreas</th>\n",
       "    </tr>\n",
       "  </thead>\n",
       "  <tbody>\n",
       "    <tr>\n",
       "      <th>0</th>\n",
       "      <td>{'country': 'BR', 'zipCode': '04290030', 'city...</td>\n",
       "      <td>3.0</td>\n",
       "      <td>4.0</td>\n",
       "      <td>2017-02-07T13:21:40Z</td>\n",
       "      <td>04 dorms sendo 01 suÃ­te e closet, sala de est...</td>\n",
       "      <td>787c7bd19d</td>\n",
       "      <td>[https://s3-sa-east-1.amazonaws.com/vr.images....</td>\n",
       "      <td>ACTIVE</td>\n",
       "      <td>False</td>\n",
       "      <td>6.0</td>\n",
       "      <td>{'price': 700000, 'businessType': 'SALE'}</td>\n",
       "      <td>STANDARD</td>\n",
       "      <td>f4603b2b52</td>\n",
       "      <td>1.0</td>\n",
       "      <td>PRÃ“XIMO A AVENIDA PRESIDENTE TANCREDO NEVES</td>\n",
       "      <td>388.0</td>\n",
       "      <td>TWO_STORY_HOUSE</td>\n",
       "      <td>2018-12-06T19:27:12.623Z</td>\n",
       "      <td>388.0</td>\n",
       "    </tr>\n",
       "    <tr>\n",
       "      <th>1</th>\n",
       "      <td>{'country': 'BR', 'zipCode': '04187320', 'city...</td>\n",
       "      <td>2.0</td>\n",
       "      <td>3.0</td>\n",
       "      <td>2016-03-21T18:35:17Z</td>\n",
       "      <td>03 dorms sendo 01 suÃ­te, sala, sala de jantar...</td>\n",
       "      <td>4d68c0cdbe</td>\n",
       "      <td>[https://s3-sa-east-1.amazonaws.com/vr.images....</td>\n",
       "      <td>ACTIVE</td>\n",
       "      <td>False</td>\n",
       "      <td>2.0</td>\n",
       "      <td>{'price': 336000, 'businessType': 'SALE'}</td>\n",
       "      <td>STANDARD</td>\n",
       "      <td>f4603b2b52</td>\n",
       "      <td>1.0</td>\n",
       "      <td>PRÃ“XIMO A FACULDADE UNIP CAMPUS ANCHIETA</td>\n",
       "      <td>129.0</td>\n",
       "      <td>HOME</td>\n",
       "      <td>2018-12-12T13:17:23.547Z</td>\n",
       "      <td>129.0</td>\n",
       "    </tr>\n",
       "  </tbody>\n",
       "</table>\n",
       "</div>"
      ],
      "text/plain": [
       "                                             address  bathrooms  bedrooms  \\\n",
       "0  {'country': 'BR', 'zipCode': '04290030', 'city...        3.0       4.0   \n",
       "1  {'country': 'BR', 'zipCode': '04187320', 'city...        2.0       3.0   \n",
       "\n",
       "              createdAt                                        description  \\\n",
       "0  2017-02-07T13:21:40Z  04 dorms sendo 01 suÃ­te e closet, sala de est...   \n",
       "1  2016-03-21T18:35:17Z  03 dorms sendo 01 suÃ­te, sala, sala de jantar...   \n",
       "\n",
       "           id                                             images  \\\n",
       "0  787c7bd19d  [https://s3-sa-east-1.amazonaws.com/vr.images....   \n",
       "1  4d68c0cdbe  [https://s3-sa-east-1.amazonaws.com/vr.images....   \n",
       "\n",
       "  listingStatus  owner  parkingSpaces  \\\n",
       "0        ACTIVE  False            6.0   \n",
       "1        ACTIVE  False            2.0   \n",
       "\n",
       "                                pricingInfos publicationType publisherId  \\\n",
       "0  {'price': 700000, 'businessType': 'SALE'}        STANDARD  f4603b2b52   \n",
       "1  {'price': 336000, 'businessType': 'SALE'}        STANDARD  f4603b2b52   \n",
       "\n",
       "   suites                                         title  totalAreas  \\\n",
       "0     1.0  PRÃ“XIMO A AVENIDA PRESIDENTE TANCREDO NEVES       388.0   \n",
       "1     1.0     PRÃ“XIMO A FACULDADE UNIP CAMPUS ANCHIETA       129.0   \n",
       "\n",
       "         unitTypes                 updatedAt  usableAreas  \n",
       "0  TWO_STORY_HOUSE  2018-12-06T19:27:12.623Z        388.0  \n",
       "1             HOME  2018-12-12T13:17:23.547Z        129.0  "
      ]
     },
     "execution_count": 52,
     "metadata": {},
     "output_type": "execute_result"
    }
   ],
   "source": [
    "trainData.head(2)"
   ]
  },
  {
   "cell_type": "code",
   "execution_count": 53,
   "metadata": {},
   "outputs": [],
   "source": [
    "trainDataFinal = pd.concat([zone,trainData.bathrooms,trainData.bedrooms,trainData.parkingSpaces,period,yearlyIptu,rentalTotalPrice,businessType,monthlyCondoFee,trainData.suites,unitTypes,areaTrain,price], axis = 1)"
   ]
  },
  {
   "cell_type": "code",
   "execution_count": 54,
   "metadata": {
    "scrolled": false
   },
   "outputs": [
    {
     "data": {
      "text/html": [
       "<div>\n",
       "<style scoped>\n",
       "    .dataframe tbody tr th:only-of-type {\n",
       "        vertical-align: middle;\n",
       "    }\n",
       "\n",
       "    .dataframe tbody tr th {\n",
       "        vertical-align: top;\n",
       "    }\n",
       "\n",
       "    .dataframe thead th {\n",
       "        text-align: right;\n",
       "    }\n",
       "</style>\n",
       "<table border=\"1\" class=\"dataframe\">\n",
       "  <thead>\n",
       "    <tr style=\"text-align: right;\">\n",
       "      <th></th>\n",
       "      <th>zone</th>\n",
       "      <th>bathrooms</th>\n",
       "      <th>bedrooms</th>\n",
       "      <th>parkingSpaces</th>\n",
       "      <th>period</th>\n",
       "      <th>yearlyIptu</th>\n",
       "      <th>rentalTotalPrice</th>\n",
       "      <th>businessType</th>\n",
       "      <th>monthlyCondoFee</th>\n",
       "      <th>suites</th>\n",
       "      <th>unitTypes</th>\n",
       "      <th>area</th>\n",
       "      <th>price</th>\n",
       "    </tr>\n",
       "  </thead>\n",
       "  <tbody>\n",
       "    <tr>\n",
       "      <th>0</th>\n",
       "      <td>Zona Sul</td>\n",
       "      <td>3.0</td>\n",
       "      <td>4.0</td>\n",
       "      <td>6.0</td>\n",
       "      <td>None</td>\n",
       "      <td>NaN</td>\n",
       "      <td>NaN</td>\n",
       "      <td>SALE</td>\n",
       "      <td>NaN</td>\n",
       "      <td>1.0</td>\n",
       "      <td>TWO_STORY_HOUSE</td>\n",
       "      <td>388.0</td>\n",
       "      <td>700000</td>\n",
       "    </tr>\n",
       "    <tr>\n",
       "      <th>1</th>\n",
       "      <td>Zona Sul</td>\n",
       "      <td>2.0</td>\n",
       "      <td>3.0</td>\n",
       "      <td>2.0</td>\n",
       "      <td>None</td>\n",
       "      <td>NaN</td>\n",
       "      <td>NaN</td>\n",
       "      <td>SALE</td>\n",
       "      <td>NaN</td>\n",
       "      <td>1.0</td>\n",
       "      <td>HOME</td>\n",
       "      <td>129.0</td>\n",
       "      <td>336000</td>\n",
       "    </tr>\n",
       "    <tr>\n",
       "      <th>2</th>\n",
       "      <td>Centro</td>\n",
       "      <td>4.0</td>\n",
       "      <td>0.0</td>\n",
       "      <td>5.0</td>\n",
       "      <td>MONTHLY</td>\n",
       "      <td>4040.0</td>\n",
       "      <td>29829.0</td>\n",
       "      <td>RENTAL</td>\n",
       "      <td>4900.0</td>\n",
       "      <td>0.0</td>\n",
       "      <td>COMMERCIAL_PROPERTY</td>\n",
       "      <td>NaN</td>\n",
       "      <td>24929</td>\n",
       "    </tr>\n",
       "    <tr>\n",
       "      <th>3</th>\n",
       "      <td>Zona Sul</td>\n",
       "      <td>2.0</td>\n",
       "      <td>3.0</td>\n",
       "      <td>2.0</td>\n",
       "      <td>None</td>\n",
       "      <td>1610.0</td>\n",
       "      <td>NaN</td>\n",
       "      <td>SALE</td>\n",
       "      <td>686.0</td>\n",
       "      <td>1.0</td>\n",
       "      <td>APARTMENT</td>\n",
       "      <td>80.0</td>\n",
       "      <td>739643</td>\n",
       "    </tr>\n",
       "    <tr>\n",
       "      <th>4</th>\n",
       "      <td>Zona Sul</td>\n",
       "      <td>5.0</td>\n",
       "      <td>4.0</td>\n",
       "      <td>5.0</td>\n",
       "      <td>None</td>\n",
       "      <td>18900.0</td>\n",
       "      <td>NaN</td>\n",
       "      <td>SALE</td>\n",
       "      <td>6230.0</td>\n",
       "      <td>4.0</td>\n",
       "      <td>APARTMENT</td>\n",
       "      <td>332.0</td>\n",
       "      <td>7520099</td>\n",
       "    </tr>\n",
       "  </tbody>\n",
       "</table>\n",
       "</div>"
      ],
      "text/plain": [
       "       zone  bathrooms  bedrooms  parkingSpaces   period  yearlyIptu  \\\n",
       "0  Zona Sul        3.0       4.0            6.0     None         NaN   \n",
       "1  Zona Sul        2.0       3.0            2.0     None         NaN   \n",
       "2    Centro        4.0       0.0            5.0  MONTHLY      4040.0   \n",
       "3  Zona Sul        2.0       3.0            2.0     None      1610.0   \n",
       "4  Zona Sul        5.0       4.0            5.0     None     18900.0   \n",
       "\n",
       "   rentalTotalPrice businessType  monthlyCondoFee  suites  \\\n",
       "0               NaN         SALE              NaN     1.0   \n",
       "1               NaN         SALE              NaN     1.0   \n",
       "2           29829.0       RENTAL           4900.0     0.0   \n",
       "3               NaN         SALE            686.0     1.0   \n",
       "4               NaN         SALE           6230.0     4.0   \n",
       "\n",
       "             unitTypes   area    price  \n",
       "0      TWO_STORY_HOUSE  388.0   700000  \n",
       "1                 HOME  129.0   336000  \n",
       "2  COMMERCIAL_PROPERTY    NaN    24929  \n",
       "3            APARTMENT   80.0   739643  \n",
       "4            APARTMENT  332.0  7520099  "
      ]
     },
     "execution_count": 54,
     "metadata": {},
     "output_type": "execute_result"
    }
   ],
   "source": [
    "trainDataFinal.head()"
   ]
  },
  {
   "cell_type": "markdown",
   "metadata": {},
   "source": [
    "Conforme analisado acima é possível retirar os imóveis que estão para alugar e consequentemente a feature businessType."
   ]
  },
  {
   "cell_type": "code",
   "execution_count": 55,
   "metadata": {},
   "outputs": [],
   "source": [
    "trainReduce = trainDataFinal.drop(trainDataFinal[trainDataFinal[\"businessType\"] == \"RENTAL\"].index)"
   ]
  },
  {
   "cell_type": "code",
   "execution_count": 56,
   "metadata": {},
   "outputs": [
    {
     "data": {
      "text/plain": [
       "SALE      105332\n",
       "RENTAL     28632\n",
       "Name: businessType, dtype: int64"
      ]
     },
     "execution_count": 56,
     "metadata": {},
     "output_type": "execute_result"
    }
   ],
   "source": [
    "trainDataFinal[\"businessType\"].value_counts()"
   ]
  },
  {
   "cell_type": "code",
   "execution_count": 57,
   "metadata": {},
   "outputs": [
    {
     "data": {
      "text/plain": [
       "SALE    105332\n",
       "Name: businessType, dtype: int64"
      ]
     },
     "execution_count": 57,
     "metadata": {},
     "output_type": "execute_result"
    }
   ],
   "source": [
    "trainReduce[\"businessType\"].value_counts()"
   ]
  },
  {
   "cell_type": "code",
   "execution_count": 58,
   "metadata": {},
   "outputs": [],
   "source": [
    "trainReduce = trainReduce.drop(columns = \"businessType\")"
   ]
  },
  {
   "cell_type": "code",
   "execution_count": 59,
   "metadata": {},
   "outputs": [
    {
     "data": {
      "text/html": [
       "<div>\n",
       "<style scoped>\n",
       "    .dataframe tbody tr th:only-of-type {\n",
       "        vertical-align: middle;\n",
       "    }\n",
       "\n",
       "    .dataframe tbody tr th {\n",
       "        vertical-align: top;\n",
       "    }\n",
       "\n",
       "    .dataframe thead th {\n",
       "        text-align: right;\n",
       "    }\n",
       "</style>\n",
       "<table border=\"1\" class=\"dataframe\">\n",
       "  <thead>\n",
       "    <tr style=\"text-align: right;\">\n",
       "      <th></th>\n",
       "      <th>zone</th>\n",
       "      <th>bathrooms</th>\n",
       "      <th>bedrooms</th>\n",
       "      <th>parkingSpaces</th>\n",
       "      <th>period</th>\n",
       "      <th>yearlyIptu</th>\n",
       "      <th>rentalTotalPrice</th>\n",
       "      <th>monthlyCondoFee</th>\n",
       "      <th>suites</th>\n",
       "      <th>unitTypes</th>\n",
       "      <th>area</th>\n",
       "      <th>price</th>\n",
       "    </tr>\n",
       "  </thead>\n",
       "  <tbody>\n",
       "    <tr>\n",
       "      <th>0</th>\n",
       "      <td>Zona Sul</td>\n",
       "      <td>3.0</td>\n",
       "      <td>4.0</td>\n",
       "      <td>6.0</td>\n",
       "      <td>None</td>\n",
       "      <td>NaN</td>\n",
       "      <td>NaN</td>\n",
       "      <td>NaN</td>\n",
       "      <td>1.0</td>\n",
       "      <td>TWO_STORY_HOUSE</td>\n",
       "      <td>388.0</td>\n",
       "      <td>700000</td>\n",
       "    </tr>\n",
       "    <tr>\n",
       "      <th>1</th>\n",
       "      <td>Zona Sul</td>\n",
       "      <td>2.0</td>\n",
       "      <td>3.0</td>\n",
       "      <td>2.0</td>\n",
       "      <td>None</td>\n",
       "      <td>NaN</td>\n",
       "      <td>NaN</td>\n",
       "      <td>NaN</td>\n",
       "      <td>1.0</td>\n",
       "      <td>HOME</td>\n",
       "      <td>129.0</td>\n",
       "      <td>336000</td>\n",
       "    </tr>\n",
       "  </tbody>\n",
       "</table>\n",
       "</div>"
      ],
      "text/plain": [
       "       zone  bathrooms  bedrooms  parkingSpaces period  yearlyIptu  \\\n",
       "0  Zona Sul        3.0       4.0            6.0   None         NaN   \n",
       "1  Zona Sul        2.0       3.0            2.0   None         NaN   \n",
       "\n",
       "   rentalTotalPrice  monthlyCondoFee  suites        unitTypes   area   price  \n",
       "0               NaN              NaN     1.0  TWO_STORY_HOUSE  388.0  700000  \n",
       "1               NaN              NaN     1.0             HOME  129.0  336000  "
      ]
     },
     "execution_count": 59,
     "metadata": {},
     "output_type": "execute_result"
    }
   ],
   "source": [
    "trainReduce.head(2)"
   ]
  },
  {
   "cell_type": "markdown",
   "metadata": {},
   "source": [
    "Verificando se soboru algum valor nas features period, rentalTotalPrice e yearlyIptu"
   ]
  },
  {
   "cell_type": "code",
   "execution_count": 60,
   "metadata": {},
   "outputs": [
    {
     "data": {
      "text/plain": [
       "(105332, 12)"
      ]
     },
     "execution_count": 60,
     "metadata": {},
     "output_type": "execute_result"
    }
   ],
   "source": [
    "trainReduce.shape"
   ]
  },
  {
   "cell_type": "code",
   "execution_count": 61,
   "metadata": {},
   "outputs": [
    {
     "data": {
      "text/plain": [
       "MONTHLY    419\n",
       "Name: period, dtype: int64"
      ]
     },
     "execution_count": 61,
     "metadata": {},
     "output_type": "execute_result"
    }
   ],
   "source": [
    "trainReduce[\"period\"].value_counts()"
   ]
  },
  {
   "cell_type": "code",
   "execution_count": 62,
   "metadata": {},
   "outputs": [
    {
     "data": {
      "text/plain": [
       "104913"
      ]
     },
     "execution_count": 62,
     "metadata": {},
     "output_type": "execute_result"
    }
   ],
   "source": [
    "trainReduce[\"period\"].isnull().sum(axis = 0)"
   ]
  },
  {
   "cell_type": "code",
   "execution_count": 63,
   "metadata": {},
   "outputs": [
    {
     "data": {
      "text/plain": [
       "0.0    95\n",
       "Name: rentalTotalPrice, dtype: int64"
      ]
     },
     "execution_count": 63,
     "metadata": {},
     "output_type": "execute_result"
    }
   ],
   "source": [
    "trainReduce[\"rentalTotalPrice\"].value_counts()"
   ]
  },
  {
   "cell_type": "code",
   "execution_count": 64,
   "metadata": {},
   "outputs": [
    {
     "data": {
      "text/plain": [
       "105237"
      ]
     },
     "execution_count": 64,
     "metadata": {},
     "output_type": "execute_result"
    }
   ],
   "source": [
    "trainReduce[\"rentalTotalPrice\"].isnull().sum(axis = 0)"
   ]
  },
  {
   "cell_type": "code",
   "execution_count": 65,
   "metadata": {},
   "outputs": [
    {
     "data": {
      "text/plain": [
       "0.0         37717\n",
       "70.0         1405\n",
       "140.0        1195\n",
       "8.0          1151\n",
       "105.0         964\n",
       "84.0          949\n",
       "210.0         921\n",
       "280.0         787\n",
       "175.0         713\n",
       "350.0         706\n",
       "7.0           675\n",
       "700.0         658\n",
       "420.0         615\n",
       "56.0          599\n",
       "125.0         562\n",
       "35.0          562\n",
       "840.0         560\n",
       "489.0         537\n",
       "244.0         516\n",
       "91.0          501\n",
       "560.0         496\n",
       "62.0          485\n",
       "315.0         460\n",
       "77.0          459\n",
       "98.0          408\n",
       "630.0         407\n",
       "770.0         387\n",
       "1050.0        377\n",
       "49.0          363\n",
       "42.0          361\n",
       "            ...  \n",
       "1263.0          1\n",
       "18186.0         1\n",
       "3604.0          1\n",
       "2496.0          1\n",
       "22166.0         1\n",
       "1568.0          1\n",
       "3814.0          1\n",
       "3167.0          1\n",
       "19826.0         1\n",
       "4519.0          1\n",
       "2153.0          1\n",
       "36159.0         1\n",
       "7769.0          1\n",
       "2032.0          1\n",
       "11089.0         1\n",
       "2187.0          1\n",
       "1474.0          1\n",
       "3311.0          1\n",
       "1709.0          1\n",
       "3283.0          1\n",
       "13142.0         1\n",
       "144739.0        1\n",
       "11096.0         1\n",
       "23919.0         1\n",
       "5550.0          1\n",
       "2915.0          1\n",
       "1511.0          1\n",
       "4134.0          1\n",
       "1293.0          1\n",
       "831.0           1\n",
       "Name: yearlyIptu, Length: 3049, dtype: int64"
      ]
     },
     "execution_count": 65,
     "metadata": {},
     "output_type": "execute_result"
    }
   ],
   "source": [
    "trainReduce[\"yearlyIptu\"].value_counts()"
   ]
  },
  {
   "cell_type": "markdown",
   "metadata": {},
   "source": [
    "Com isso é possivel retirar as colunas period e rentalTotalPrice "
   ]
  },
  {
   "cell_type": "code",
   "execution_count": 66,
   "metadata": {},
   "outputs": [],
   "source": [
    "trainReduce = trainReduce.drop(['period','rentalTotalPrice'], axis = 1)"
   ]
  },
  {
   "cell_type": "markdown",
   "metadata": {},
   "source": [
    "Como verificado anteriormente o dataset de teste contem apenas imoveis com a feature unitTypes = APARTMENT, logo podem ser removidas do dataset todas os imóveis que não são deste tipo"
   ]
  },
  {
   "cell_type": "code",
   "execution_count": 67,
   "metadata": {},
   "outputs": [],
   "source": [
    "trainReduce = trainReduce.drop(trainReduce[trainReduce[\"unitTypes\"] != \"APARTMENT\"].index)"
   ]
  },
  {
   "cell_type": "markdown",
   "metadata": {},
   "source": [
    "Como restou-se apenas aprtamentos, é possivel remover a coluna unitTypes"
   ]
  },
  {
   "cell_type": "code",
   "execution_count": 68,
   "metadata": {},
   "outputs": [],
   "source": [
    "trainReduce = trainReduce.drop(['unitTypes'], axis = 1)"
   ]
  },
  {
   "cell_type": "code",
   "execution_count": 69,
   "metadata": {},
   "outputs": [
    {
     "data": {
      "text/html": [
       "<div>\n",
       "<style scoped>\n",
       "    .dataframe tbody tr th:only-of-type {\n",
       "        vertical-align: middle;\n",
       "    }\n",
       "\n",
       "    .dataframe tbody tr th {\n",
       "        vertical-align: top;\n",
       "    }\n",
       "\n",
       "    .dataframe thead th {\n",
       "        text-align: right;\n",
       "    }\n",
       "</style>\n",
       "<table border=\"1\" class=\"dataframe\">\n",
       "  <thead>\n",
       "    <tr style=\"text-align: right;\">\n",
       "      <th></th>\n",
       "      <th>zone</th>\n",
       "      <th>bathrooms</th>\n",
       "      <th>bedrooms</th>\n",
       "      <th>parkingSpaces</th>\n",
       "      <th>yearlyIptu</th>\n",
       "      <th>monthlyCondoFee</th>\n",
       "      <th>suites</th>\n",
       "      <th>area</th>\n",
       "      <th>price</th>\n",
       "    </tr>\n",
       "  </thead>\n",
       "  <tbody>\n",
       "    <tr>\n",
       "      <th>3</th>\n",
       "      <td>Zona Sul</td>\n",
       "      <td>2.0</td>\n",
       "      <td>3.0</td>\n",
       "      <td>2.0</td>\n",
       "      <td>1610.0</td>\n",
       "      <td>686.0</td>\n",
       "      <td>1.0</td>\n",
       "      <td>80.0</td>\n",
       "      <td>739643</td>\n",
       "    </tr>\n",
       "    <tr>\n",
       "      <th>4</th>\n",
       "      <td>Zona Sul</td>\n",
       "      <td>5.0</td>\n",
       "      <td>4.0</td>\n",
       "      <td>5.0</td>\n",
       "      <td>18900.0</td>\n",
       "      <td>6230.0</td>\n",
       "      <td>4.0</td>\n",
       "      <td>332.0</td>\n",
       "      <td>7520099</td>\n",
       "    </tr>\n",
       "    <tr>\n",
       "      <th>6</th>\n",
       "      <td>Zona Oeste</td>\n",
       "      <td>1.0</td>\n",
       "      <td>3.0</td>\n",
       "      <td>2.0</td>\n",
       "      <td>489.0</td>\n",
       "      <td>1120.0</td>\n",
       "      <td>0.0</td>\n",
       "      <td>94.0</td>\n",
       "      <td>630700</td>\n",
       "    </tr>\n",
       "    <tr>\n",
       "      <th>9</th>\n",
       "      <td>Centro</td>\n",
       "      <td>4.0</td>\n",
       "      <td>4.0</td>\n",
       "      <td>2.0</td>\n",
       "      <td>0.0</td>\n",
       "      <td>0.0</td>\n",
       "      <td>3.0</td>\n",
       "      <td>141.0</td>\n",
       "      <td>1106000</td>\n",
       "    </tr>\n",
       "    <tr>\n",
       "      <th>10</th>\n",
       "      <td>Zona Sul</td>\n",
       "      <td>0.0</td>\n",
       "      <td>4.0</td>\n",
       "      <td>3.0</td>\n",
       "      <td>6300.0</td>\n",
       "      <td>1400.0</td>\n",
       "      <td>4.0</td>\n",
       "      <td>188.0</td>\n",
       "      <td>910000</td>\n",
       "    </tr>\n",
       "  </tbody>\n",
       "</table>\n",
       "</div>"
      ],
      "text/plain": [
       "          zone  bathrooms  bedrooms  parkingSpaces  yearlyIptu  \\\n",
       "3     Zona Sul        2.0       3.0            2.0      1610.0   \n",
       "4     Zona Sul        5.0       4.0            5.0     18900.0   \n",
       "6   Zona Oeste        1.0       3.0            2.0       489.0   \n",
       "9       Centro        4.0       4.0            2.0         0.0   \n",
       "10    Zona Sul        0.0       4.0            3.0      6300.0   \n",
       "\n",
       "    monthlyCondoFee  suites   area    price  \n",
       "3             686.0     1.0   80.0   739643  \n",
       "4            6230.0     4.0  332.0  7520099  \n",
       "6            1120.0     0.0   94.0   630700  \n",
       "9               0.0     3.0  141.0  1106000  \n",
       "10           1400.0     4.0  188.0   910000  "
      ]
     },
     "execution_count": 69,
     "metadata": {},
     "output_type": "execute_result"
    }
   ],
   "source": [
    "trainReduce.head()"
   ]
  },
  {
   "cell_type": "markdown",
   "metadata": {},
   "source": [
    "# Data Processing"
   ]
  },
  {
   "cell_type": "markdown",
   "metadata": {},
   "source": [
    "Com o data frame pronto é hora de veirificar se existem outliers"
   ]
  },
  {
   "cell_type": "code",
   "execution_count": 70,
   "metadata": {},
   "outputs": [],
   "source": [
    "import numpy as np # linear algebra\n",
    "%matplotlib inline\n",
    "import matplotlib.pyplot as plt  # Matlab-style plotting\n",
    "import seaborn as sns\n",
    "color = sns.color_palette()\n",
    "sns.set_style('darkgrid')\n",
    "import warnings\n",
    "def ignore_warn(*args, **kwargs):\n",
    "    pass\n",
    "warnings.warn = ignore_warn #ignora warnings desnecessários do sklearn e seaborn\n",
    "\n",
    "\n",
    "from scipy import stats\n",
    "from scipy.stats import norm, skew #estatistica\n",
    "\n",
    "\n",
    "pd.set_option('display.float_format', lambda x: '{:.3f}'.format(x)) #limitando floats a 3 casas decimais\n",
    "\n"
   ]
  },
  {
   "cell_type": "code",
   "execution_count": 71,
   "metadata": {},
   "outputs": [
    {
     "data": {
      "image/png": "[encoded data removed]",
      "text/plain": [
       "<Figure size 432x288 with 1 Axes>"
      ]
     },
     "metadata": {
      "needs_background": "light"
     },
     "output_type": "display_data"
    }
   ],
   "source": [
    "fig, ax = plt.subplots()\n",
    "ax.scatter(x = trainReduce['area'], y = trainReduce['price'])\n",
    "plt.ylabel('price', fontsize=13)\n",
    "plt.xlabel('area', fontsize=13)\n",
    "plt.show()"
   ]
  },
  {
   "cell_type": "markdown",
   "metadata": {},
   "source": [
    "É possível vizualizar que existem imóveis cuja area é muito grande, destacando-se como outliers. Com isso é possível romovê-los do dataset."
   ]
  },
  {
   "cell_type": "code",
   "execution_count": 72,
   "metadata": {},
   "outputs": [],
   "source": [
    "trainReduce = trainReduce.drop(trainReduce[trainReduce[\"area\"] > 15000].index)"
   ]
  },
  {
   "cell_type": "code",
   "execution_count": 73,
   "metadata": {},
   "outputs": [
    {
     "data": {
      "image/png": "[encoded data removed]",
      "text/plain": [
       "<Figure size 432x288 with 1 Axes>"
      ]
     },
     "metadata": {
      "needs_background": "light"
     },
     "output_type": "display_data"
    }
   ],
   "source": [
    "fig, ax = plt.subplots()\n",
    "ax.scatter(x = trainReduce['area'], y = trainReduce['price'])\n",
    "plt.ylabel('price', fontsize=13)\n",
    "plt.xlabel('area', fontsize=13)\n",
    "plt.show()"
   ]
  },
  {
   "cell_type": "markdown",
   "metadata": {},
   "source": [
    "Ainda é possivel verificar que imoveis com área acima de 500 representam apenas 2%. Com isso a fim, de minimizar a distorção dos dados, serão desconsiderados imoveis com area maior que 500. O mesmo ocorre com imoveis com preço superior a 25000000"
   ]
  },
  {
   "cell_type": "code",
   "execution_count": 74,
   "metadata": {},
   "outputs": [
    {
     "data": {
      "text/plain": [
       "(64105, 9)"
      ]
     },
     "execution_count": 74,
     "metadata": {},
     "output_type": "execute_result"
    }
   ],
   "source": [
    "trainReduce.shape"
   ]
  },
  {
   "cell_type": "code",
   "execution_count": 75,
   "metadata": {},
   "outputs": [
    {
     "data": {
      "text/plain": [
       "(1293, 9)"
      ]
     },
     "execution_count": 75,
     "metadata": {},
     "output_type": "execute_result"
    }
   ],
   "source": [
    "trainReduce[trainReduce[\"area\"]>500].shape"
   ]
  },
  {
   "cell_type": "code",
   "execution_count": 76,
   "metadata": {},
   "outputs": [],
   "source": [
    "trainReduce = trainReduce.drop(trainReduce[trainReduce[\"area\"] > 500].index)"
   ]
  },
  {
   "cell_type": "code",
   "execution_count": 77,
   "metadata": {},
   "outputs": [],
   "source": [
    "trainReduce = trainReduce.drop(trainReduce[trainReduce[\"price\"] > 25000000].index)"
   ]
  },
  {
   "cell_type": "code",
   "execution_count": 78,
   "metadata": {},
   "outputs": [
    {
     "data": {
      "image/png": "[encoded data removed]",
      "text/plain": [
       "<Figure size 432x288 with 1 Axes>"
      ]
     },
     "metadata": {
      "needs_background": "light"
     },
     "output_type": "display_data"
    }
   ],
   "source": [
    "fig, ax = plt.subplots()\n",
    "ax.scatter(x = trainReduce['area'], y = trainReduce['price'])\n",
    "plt.ylabel('price', fontsize=13)\n",
    "plt.xlabel('area', fontsize=13)\n",
    "plt.show()"
   ]
  },
  {
   "cell_type": "markdown",
   "metadata": {},
   "source": [
    "Pode-se vizualizar que ainda há outiliers. Logo imoveis com preço acima de 8000000 serão desconsiderados"
   ]
  },
  {
   "cell_type": "code",
   "execution_count": 79,
   "metadata": {},
   "outputs": [],
   "source": [
    "trainReduce = trainReduce.drop(trainReduce[trainReduce[\"price\"] > 8000000].index)"
   ]
  },
  {
   "cell_type": "code",
   "execution_count": 80,
   "metadata": {},
   "outputs": [
    {
     "data": {
      "image/png": "[encoded data removed]",
      "text/plain": [
       "<Figure size 432x288 with 1 Axes>"
      ]
     },
     "metadata": {
      "needs_background": "light"
     },
     "output_type": "display_data"
    }
   ],
   "source": [
    "fig, ax = plt.subplots()\n",
    "ax.scatter(x = trainReduce['area'], y = trainReduce['price'])\n",
    "plt.ylabel('price', fontsize=13)\n",
    "plt.xlabel('area', fontsize=13)\n",
    "plt.show()"
   ]
  },
  {
   "cell_type": "markdown",
   "metadata": {},
   "source": [
    "Agora vamos avaliar a feature price com relação a sua distribuição"
   ]
  },
  {
   "cell_type": "code",
   "execution_count": 81,
   "metadata": {},
   "outputs": [
    {
     "name": "stdout",
     "output_type": "stream",
     "text": [
      "\n",
      " mu = 709879.42 and sigma = 755794.84\n",
      "\n"
     ]
    },
    {
     "data": {
      "image/png": "[encoded data removed]",
      "text/plain": [
       "<Figure size 432x288 with 1 Axes>"
      ]
     },
     "metadata": {
      "needs_background": "light"
     },
     "output_type": "display_data"
    },
    {
     "data": {
      "image/png": "[encoded data removed]",
      "text/plain": [
       "<Figure size 432x288 with 1 Axes>"
      ]
     },
     "metadata": {
      "needs_background": "light"
     },
     "output_type": "display_data"
    }
   ],
   "source": [
    "sns.distplot(trainReduce['price'] , fit = norm);\n",
    "\n",
    "#Pegando os paramentros ajustados utilizados pela função\n",
    "(mu, sigma) = norm.fit(trainReduce['price'])\n",
    "print( '\\n mu = {:.2f} and sigma = {:.2f}\\n'.format(mu, sigma))\n",
    "\n",
    "#Plotando a distribuição\n",
    "plt.legend(['Normal dist. ($\\mu=$ {:.2f} and $\\sigma=$ {:.2f} )'.format(mu, sigma)],\n",
    "            loc='best')\n",
    "plt.ylabel('Frequency')\n",
    "plt.title('Price distribution')\n",
    "\n",
    "#Traçando o gráfico QQ\n",
    "fig = plt.figure()\n",
    "res = stats.probplot(trainReduce['price'], plot=plt)\n",
    "plt.show()"
   ]
  },
  {
   "cell_type": "markdown",
   "metadata": {},
   "source": [
    "A partir dos gráficos verificou-se que a ditribuição dos preços esta deslocada, e a fim de tranformá-la em uma distribuição normal, aplicou-se a escala logarítmica"
   ]
  },
  {
   "cell_type": "code",
   "execution_count": 82,
   "metadata": {
    "scrolled": true
   },
   "outputs": [
    {
     "name": "stdout",
     "output_type": "stream",
     "text": [
      "\n",
      " mu = 13.13 and sigma = 0.78\n",
      "\n"
     ]
    },
    {
     "data": {
      "image/png": "[encoded data removed]",
      "text/plain": [
       "<Figure size 432x288 with 1 Axes>"
      ]
     },
     "metadata": {
      "needs_background": "light"
     },
     "output_type": "display_data"
    },
    {
     "data": {
      "image/png": "[encoded data removed]",
      "text/plain": [
       "<Figure size 432x288 with 1 Axes>"
      ]
     },
     "metadata": {
      "needs_background": "light"
     },
     "output_type": "display_data"
    }
   ],
   "source": [
    "#Usando a função log1p da biblioteca numpy, ela aplica log(1+x) a todos os elementos da coluna\n",
    "trainReduce[\"price\"] = np.log1p(trainReduce[\"price\"])\n",
    "\n",
    "#Checando a nova distribuição \n",
    "sns.distplot(trainReduce['price'] , fit = norm)\n",
    "\n",
    "#Pegando os paramentros ajustados utilizados pela função\n",
    "(mu, sigma) = norm.fit(trainReduce['price'])\n",
    "print( '\\n mu = {:.2f} and sigma = {:.2f}\\n'.format(mu, sigma))\n",
    "\n",
    "#Plotando a distribuição\n",
    "plt.legend(['Normal dist. ($\\mu=$ {:.2f} and $\\sigma=$ {:.2f} )'.format(mu, sigma)],\n",
    "            loc = 'best')\n",
    "plt.ylabel('Frequency')\n",
    "plt.title('Price distribution')\n",
    "\n",
    "#Traçando o gráfico QQ\n",
    "fig = plt.figure()\n",
    "res = stats.probplot(trainReduce['price'], plot = plt)\n",
    "plt.show()"
   ]
  },
  {
   "cell_type": "markdown",
   "metadata": {},
   "source": [
    "## Matriz de correlação"
   ]
  },
  {
   "cell_type": "code",
   "execution_count": 83,
   "metadata": {},
   "outputs": [
    {
     "data": {
      "text/plain": [
       "[Text(0.5, 0, 'bathrooms'),\n",
       " Text(1.5, 0, 'bedrooms'),\n",
       " Text(2.5, 0, 'parkingSpaces'),\n",
       " Text(3.5, 0, 'yearlyIptu'),\n",
       " Text(4.5, 0, 'monthlyCondoFee'),\n",
       " Text(5.5, 0, 'suites'),\n",
       " Text(6.5, 0, 'area'),\n",
       " Text(7.5, 0, 'price')]"
      ]
     },
     "execution_count": 83,
     "metadata": {},
     "output_type": "execute_result"
    },
    {
     "data": {
      "image/png": "[encoded data removed]",
      "text/plain": [
       "<Figure size 1200x800 with 2 Axes>"
      ]
     },
     "metadata": {},
     "output_type": "display_data"
    }
   ],
   "source": [
    "#Matriz de Correlação p/ variaveis numericas\n",
    "corr = trainReduce.corr()\n",
    "plt.figure(figsize=(15, 10), dpi= 80, facecolor='w', edgecolor='k')\n",
    "ax = sns.heatmap(\n",
    "    corr, \n",
    "    vmin=-1, vmax=1, center=0,\n",
    "    cmap=sns.diverging_palette(20, 220, n=200),\n",
    "    square=True,\n",
    "    annot = True,\n",
    "    fmt = '.2f'\n",
    ")\n",
    "ax.set_xticklabels(\n",
    "    ax.get_xticklabels(),\n",
    "    rotation=45,\n",
    "    horizontalalignment='right'\n",
    ")"
   ]
  },
  {
   "cell_type": "markdown",
   "metadata": {},
   "source": [
    "## Dados faltantes"
   ]
  },
  {
   "cell_type": "markdown",
   "metadata": {},
   "source": [
    "Para juntar-se os dados de teste e treino, primeiramente é necessário ajustar os dados de teste"
   ]
  },
  {
   "cell_type": "code",
   "execution_count": 84,
   "metadata": {},
   "outputs": [
    {
     "data": {
      "text/html": [
       "<div>\n",
       "<style scoped>\n",
       "    .dataframe tbody tr th:only-of-type {\n",
       "        vertical-align: middle;\n",
       "    }\n",
       "\n",
       "    .dataframe tbody tr th {\n",
       "        vertical-align: top;\n",
       "    }\n",
       "\n",
       "    .dataframe thead th {\n",
       "        text-align: right;\n",
       "    }\n",
       "</style>\n",
       "<table border=\"1\" class=\"dataframe\">\n",
       "  <thead>\n",
       "    <tr style=\"text-align: right;\">\n",
       "      <th></th>\n",
       "      <th>zone</th>\n",
       "      <th>bathrooms</th>\n",
       "      <th>bedrooms</th>\n",
       "      <th>parkingSpaces</th>\n",
       "      <th>yearlyIptu</th>\n",
       "      <th>monthlyCondoFee</th>\n",
       "      <th>suites</th>\n",
       "      <th>area</th>\n",
       "      <th>price</th>\n",
       "    </tr>\n",
       "  </thead>\n",
       "  <tbody>\n",
       "    <tr>\n",
       "      <th>3</th>\n",
       "      <td>Zona Sul</td>\n",
       "      <td>2.000</td>\n",
       "      <td>3.000</td>\n",
       "      <td>2.000</td>\n",
       "      <td>1610.000</td>\n",
       "      <td>686.000</td>\n",
       "      <td>1.000</td>\n",
       "      <td>80.000</td>\n",
       "      <td>13.514</td>\n",
       "    </tr>\n",
       "    <tr>\n",
       "      <th>4</th>\n",
       "      <td>Zona Sul</td>\n",
       "      <td>5.000</td>\n",
       "      <td>4.000</td>\n",
       "      <td>5.000</td>\n",
       "      <td>18900.000</td>\n",
       "      <td>6230.000</td>\n",
       "      <td>4.000</td>\n",
       "      <td>332.000</td>\n",
       "      <td>15.833</td>\n",
       "    </tr>\n",
       "  </tbody>\n",
       "</table>\n",
       "</div>"
      ],
      "text/plain": [
       "       zone  bathrooms  bedrooms  parkingSpaces  yearlyIptu  monthlyCondoFee  \\\n",
       "3  Zona Sul      2.000     3.000          2.000    1610.000          686.000   \n",
       "4  Zona Sul      5.000     4.000          5.000   18900.000         6230.000   \n",
       "\n",
       "   suites    area  price  \n",
       "3   1.000  80.000 13.514  \n",
       "4   4.000 332.000 15.833  "
      ]
     },
     "execution_count": 84,
     "metadata": {},
     "output_type": "execute_result"
    }
   ],
   "source": [
    "trainReduce.head(2)"
   ]
  },
  {
   "cell_type": "code",
   "execution_count": 85,
   "metadata": {},
   "outputs": [],
   "source": [
    "yearlyIptuTest = []\n",
    "for i in range(testData.shape[0]):\n",
    "    yearlyIptuTest.append(testData.pricingInfos[i].get(\"yearlyIptuTest\"))"
   ]
  },
  {
   "cell_type": "code",
   "execution_count": 86,
   "metadata": {},
   "outputs": [],
   "source": [
    "yearlyIptuT = pd.DataFrame(yearlyIptuTest,columns = ['yearlyIptu'])"
   ]
  },
  {
   "cell_type": "code",
   "execution_count": 87,
   "metadata": {},
   "outputs": [],
   "source": [
    "monthlyCondoFeeTest = []\n",
    "for i in range(testData.shape[0]):\n",
    "    monthlyCondoFeeTest.append(testData.pricingInfos[i].get(\"monthlyCondoFee\"))"
   ]
  },
  {
   "cell_type": "code",
   "execution_count": 88,
   "metadata": {},
   "outputs": [],
   "source": [
    "monthlyCondoFeeT = pd.DataFrame(monthlyCondoFeeTest,columns = ['monthlyCondoFee'])"
   ]
  },
  {
   "cell_type": "code",
   "execution_count": 89,
   "metadata": {},
   "outputs": [],
   "source": [
    "priceTest = []\n",
    "for i in range(testData.shape[0]):\n",
    "    priceTest.append(testData.pricingInfos[i].get(\"price\"))"
   ]
  },
  {
   "cell_type": "code",
   "execution_count": 90,
   "metadata": {},
   "outputs": [],
   "source": [
    "priceT = pd.DataFrame(priceTest,columns = ['price'])"
   ]
  },
  {
   "cell_type": "code",
   "execution_count": 91,
   "metadata": {},
   "outputs": [],
   "source": [
    "vecTotalAreasTest = []\n",
    "vecUsableAreasTest = []\n",
    "for i in range(testData.shape[0]):\n",
    "    vecTotalAreasTest.append(testData.totalAreas.get(i))\n",
    "    vecUsableAreasTest.append(testData.usableAreas.get(i))\n",
    "    if (vecTotalAreasTest[i] == 0) & (vecUsableAreasTest[i]< 400):\n",
    "        vecTotalAreasTest[i] = vecUsableAreasTest[i]"
   ]
  },
  {
   "cell_type": "code",
   "execution_count": 92,
   "metadata": {},
   "outputs": [],
   "source": [
    "areaTest = pd.DataFrame(vecTotalAreasTest,columns = ['area'])"
   ]
  },
  {
   "cell_type": "code",
   "execution_count": 93,
   "metadata": {},
   "outputs": [],
   "source": [
    "testDataFinal = pd.concat([zoneT,testData.bathrooms,testData.bedrooms,testData.parkingSpaces,yearlyIptuT,monthlyCondoFeeT,testData.suites,areaTest,priceT], axis = 1) "
   ]
  },
  {
   "cell_type": "code",
   "execution_count": 94,
   "metadata": {},
   "outputs": [
    {
     "data": {
      "text/html": [
       "<div>\n",
       "<style scoped>\n",
       "    .dataframe tbody tr th:only-of-type {\n",
       "        vertical-align: middle;\n",
       "    }\n",
       "\n",
       "    .dataframe tbody tr th {\n",
       "        vertical-align: top;\n",
       "    }\n",
       "\n",
       "    .dataframe thead th {\n",
       "        text-align: right;\n",
       "    }\n",
       "</style>\n",
       "<table border=\"1\" class=\"dataframe\">\n",
       "  <thead>\n",
       "    <tr style=\"text-align: right;\">\n",
       "      <th></th>\n",
       "      <th>zone</th>\n",
       "      <th>bathrooms</th>\n",
       "      <th>bedrooms</th>\n",
       "      <th>parkingSpaces</th>\n",
       "      <th>yearlyIptu</th>\n",
       "      <th>monthlyCondoFee</th>\n",
       "      <th>suites</th>\n",
       "      <th>area</th>\n",
       "      <th>price</th>\n",
       "    </tr>\n",
       "  </thead>\n",
       "  <tbody>\n",
       "    <tr>\n",
       "      <th>0</th>\n",
       "      <td>Centro</td>\n",
       "      <td>1.000</td>\n",
       "      <td>1</td>\n",
       "      <td>1.000</td>\n",
       "      <td>None</td>\n",
       "      <td>nan</td>\n",
       "      <td>0.000</td>\n",
       "      <td>47.000</td>\n",
       "      <td>None</td>\n",
       "    </tr>\n",
       "    <tr>\n",
       "      <th>1</th>\n",
       "      <td>Zona Leste</td>\n",
       "      <td>0.000</td>\n",
       "      <td>2</td>\n",
       "      <td>1.000</td>\n",
       "      <td>None</td>\n",
       "      <td>0.000</td>\n",
       "      <td>0.000</td>\n",
       "      <td>55.000</td>\n",
       "      <td>None</td>\n",
       "    </tr>\n",
       "  </tbody>\n",
       "</table>\n",
       "</div>"
      ],
      "text/plain": [
       "         zone  bathrooms  bedrooms  parkingSpaces yearlyIptu  monthlyCondoFee  \\\n",
       "0      Centro      1.000         1          1.000       None              nan   \n",
       "1  Zona Leste      0.000         2          1.000       None            0.000   \n",
       "\n",
       "   suites   area price  \n",
       "0   0.000 47.000  None  \n",
       "1   0.000 55.000  None  "
      ]
     },
     "execution_count": 94,
     "metadata": {},
     "output_type": "execute_result"
    }
   ],
   "source": [
    "testDataFinal.head(2)"
   ]
  },
  {
   "cell_type": "markdown",
   "metadata": {},
   "source": [
    "Juntando os dataset de teste e de treino"
   ]
  },
  {
   "cell_type": "code",
   "execution_count": 95,
   "metadata": {},
   "outputs": [
    {
     "name": "stdout",
     "output_type": "stream",
     "text": [
      "all_data size is : (78778, 8)\n"
     ]
    }
   ],
   "source": [
    "ntrain = trainReduce.shape[0]\n",
    "ntest = testDataFinal.shape[0]\n",
    "yTrain = trainReduce.price.values\n",
    "allData = pd.concat((trainReduce, testDataFinal)).reset_index(drop = True)\n",
    "allData.drop(['price'], axis = 1, inplace = True)\n",
    "print(\"all_data size is : {}\".format(allData.shape))"
   ]
  },
  {
   "cell_type": "code",
   "execution_count": 96,
   "metadata": {},
   "outputs": [
    {
     "data": {
      "text/html": [
       "<div>\n",
       "<style scoped>\n",
       "    .dataframe tbody tr th:only-of-type {\n",
       "        vertical-align: middle;\n",
       "    }\n",
       "\n",
       "    .dataframe tbody tr th {\n",
       "        vertical-align: top;\n",
       "    }\n",
       "\n",
       "    .dataframe thead th {\n",
       "        text-align: right;\n",
       "    }\n",
       "</style>\n",
       "<table border=\"1\" class=\"dataframe\">\n",
       "  <thead>\n",
       "    <tr style=\"text-align: right;\">\n",
       "      <th></th>\n",
       "      <th>Missing Ratio</th>\n",
       "    </tr>\n",
       "  </thead>\n",
       "  <tbody>\n",
       "    <tr>\n",
       "      <th>area</th>\n",
       "      <td>39.345</td>\n",
       "    </tr>\n",
       "    <tr>\n",
       "      <th>yearlyIptu</th>\n",
       "      <td>32.386</td>\n",
       "    </tr>\n",
       "    <tr>\n",
       "      <th>suites</th>\n",
       "      <td>8.876</td>\n",
       "    </tr>\n",
       "    <tr>\n",
       "      <th>monthlyCondoFee</th>\n",
       "      <td>5.725</td>\n",
       "    </tr>\n",
       "    <tr>\n",
       "      <th>parkingSpaces</th>\n",
       "      <td>1.752</td>\n",
       "    </tr>\n",
       "    <tr>\n",
       "      <th>bathrooms</th>\n",
       "      <td>0.003</td>\n",
       "    </tr>\n",
       "  </tbody>\n",
       "</table>\n",
       "</div>"
      ],
      "text/plain": [
       "                 Missing Ratio\n",
       "area                    39.345\n",
       "yearlyIptu              32.386\n",
       "suites                   8.876\n",
       "monthlyCondoFee          5.725\n",
       "parkingSpaces            1.752\n",
       "bathrooms                0.003"
      ]
     },
     "execution_count": 96,
     "metadata": {},
     "output_type": "execute_result"
    }
   ],
   "source": [
    "allDataMissing = (allData.isnull().sum() / len(allData)) * 100\n",
    "allDataMissing = allDataMissing.drop(allDataMissing[allDataMissing == 0].index).sort_values(ascending=False)[:30]\n",
    "missingData = pd.DataFrame({'Missing Ratio' :allDataMissing})\n",
    "missingData.head(20)"
   ]
  },
  {
   "cell_type": "markdown",
   "metadata": {},
   "source": [
    "Substituindo dos dados faltantes pela média  de todos os imóveis da região, exceto para o parking spaces e suites que serão substituidos por zero."
   ]
  },
  {
   "cell_type": "code",
   "execution_count": 97,
   "metadata": {},
   "outputs": [],
   "source": [
    "allData[\"area\"] = allData.groupby(\"zone\")[\"area\"].transform(\n",
    "    lambda x: x.fillna(x.median()))"
   ]
  },
  {
   "cell_type": "code",
   "execution_count": 98,
   "metadata": {},
   "outputs": [],
   "source": [
    "allData[\"yearlyIptu\"] = allData.groupby(\"zone\")[\"yearlyIptu\"].transform(\n",
    "    lambda x: x.fillna(x.median()))"
   ]
  },
  {
   "cell_type": "code",
   "execution_count": 99,
   "metadata": {},
   "outputs": [],
   "source": [
    "for col in ('suites', 'parkingSpaces'):\n",
    "    allData[col] = allData[col].fillna(0)"
   ]
  },
  {
   "cell_type": "code",
   "execution_count": 100,
   "metadata": {},
   "outputs": [],
   "source": [
    "allData[\"monthlyCondoFee\"] = allData.groupby(\"zone\")[\"monthlyCondoFee\"].transform(\n",
    "    lambda x: x.fillna(x.median()))"
   ]
  },
  {
   "cell_type": "code",
   "execution_count": 101,
   "metadata": {},
   "outputs": [],
   "source": [
    "allData[\"bathrooms\"] = allData.groupby(\"zone\")[\"bathrooms\"].transform(\n",
    "    lambda x: x.fillna(x.median()))"
   ]
  },
  {
   "cell_type": "markdown",
   "metadata": {},
   "source": [
    "Checaando novamente os dado faltantes"
   ]
  },
  {
   "cell_type": "code",
   "execution_count": 102,
   "metadata": {},
   "outputs": [
    {
     "data": {
      "text/html": [
       "<div>\n",
       "<style scoped>\n",
       "    .dataframe tbody tr th:only-of-type {\n",
       "        vertical-align: middle;\n",
       "    }\n",
       "\n",
       "    .dataframe tbody tr th {\n",
       "        vertical-align: top;\n",
       "    }\n",
       "\n",
       "    .dataframe thead th {\n",
       "        text-align: right;\n",
       "    }\n",
       "</style>\n",
       "<table border=\"1\" class=\"dataframe\">\n",
       "  <thead>\n",
       "    <tr style=\"text-align: right;\">\n",
       "      <th></th>\n",
       "      <th>Missing Ratio</th>\n",
       "    </tr>\n",
       "  </thead>\n",
       "  <tbody>\n",
       "  </tbody>\n",
       "</table>\n",
       "</div>"
      ],
      "text/plain": [
       "Empty DataFrame\n",
       "Columns: [Missing Ratio]\n",
       "Index: []"
      ]
     },
     "execution_count": 102,
     "metadata": {},
     "output_type": "execute_result"
    }
   ],
   "source": [
    "allDataMissing = (allData.isnull().sum() / len(allData)) * 100\n",
    "allDataMissing = allDataMissing.drop(allDataMissing[allDataMissing == 0].index).sort_values(ascending=False)[:30]\n",
    "missingData = pd.DataFrame({'Missing Ratio' :allDataMissing})\n",
    "missingData.head(20)"
   ]
  },
  {
   "cell_type": "markdown",
   "metadata": {},
   "source": [
    "Transformando a feature zone em uma variável numérica"
   ]
  },
  {
   "cell_type": "code",
   "execution_count": 103,
   "metadata": {},
   "outputs": [],
   "source": [
    "allData = allData.replace(\"Zona Sul\",1)\n",
    "allData = allData.replace(\"Zona Leste\",2)\n",
    "allData = allData.replace(\"Zona Oeste\",3)\n",
    "allData = allData.replace(\"Zona Norte\",4)\n",
    "allData = allData.replace(\"Centro\",5)\n",
    "allData = allData.replace(\"Fora SP\",6)\n",
    "allData = allData.replace(\"Sem Zona\",7)"
   ]
  },
  {
   "cell_type": "code",
   "execution_count": 104,
   "metadata": {
    "scrolled": true
   },
   "outputs": [
    {
     "data": {
      "text/html": [
       "<div>\n",
       "<style scoped>\n",
       "    .dataframe tbody tr th:only-of-type {\n",
       "        vertical-align: middle;\n",
       "    }\n",
       "\n",
       "    .dataframe tbody tr th {\n",
       "        vertical-align: top;\n",
       "    }\n",
       "\n",
       "    .dataframe thead th {\n",
       "        text-align: right;\n",
       "    }\n",
       "</style>\n",
       "<table border=\"1\" class=\"dataframe\">\n",
       "  <thead>\n",
       "    <tr style=\"text-align: right;\">\n",
       "      <th></th>\n",
       "      <th>zone</th>\n",
       "      <th>bathrooms</th>\n",
       "      <th>bedrooms</th>\n",
       "      <th>parkingSpaces</th>\n",
       "      <th>yearlyIptu</th>\n",
       "      <th>monthlyCondoFee</th>\n",
       "      <th>suites</th>\n",
       "      <th>area</th>\n",
       "    </tr>\n",
       "  </thead>\n",
       "  <tbody>\n",
       "    <tr>\n",
       "      <th>0</th>\n",
       "      <td>1</td>\n",
       "      <td>2.000</td>\n",
       "      <td>3.000</td>\n",
       "      <td>2.000</td>\n",
       "      <td>1610.000</td>\n",
       "      <td>686.000</td>\n",
       "      <td>1.000</td>\n",
       "      <td>80.000</td>\n",
       "    </tr>\n",
       "    <tr>\n",
       "      <th>1</th>\n",
       "      <td>1</td>\n",
       "      <td>5.000</td>\n",
       "      <td>4.000</td>\n",
       "      <td>5.000</td>\n",
       "      <td>18900.000</td>\n",
       "      <td>6230.000</td>\n",
       "      <td>4.000</td>\n",
       "      <td>332.000</td>\n",
       "    </tr>\n",
       "    <tr>\n",
       "      <th>2</th>\n",
       "      <td>3</td>\n",
       "      <td>1.000</td>\n",
       "      <td>3.000</td>\n",
       "      <td>2.000</td>\n",
       "      <td>489.000</td>\n",
       "      <td>1120.000</td>\n",
       "      <td>0.000</td>\n",
       "      <td>94.000</td>\n",
       "    </tr>\n",
       "    <tr>\n",
       "      <th>3</th>\n",
       "      <td>5</td>\n",
       "      <td>4.000</td>\n",
       "      <td>4.000</td>\n",
       "      <td>2.000</td>\n",
       "      <td>0.000</td>\n",
       "      <td>0.000</td>\n",
       "      <td>3.000</td>\n",
       "      <td>141.000</td>\n",
       "    </tr>\n",
       "    <tr>\n",
       "      <th>4</th>\n",
       "      <td>1</td>\n",
       "      <td>0.000</td>\n",
       "      <td>4.000</td>\n",
       "      <td>3.000</td>\n",
       "      <td>6300.000</td>\n",
       "      <td>1400.000</td>\n",
       "      <td>4.000</td>\n",
       "      <td>188.000</td>\n",
       "    </tr>\n",
       "  </tbody>\n",
       "</table>\n",
       "</div>"
      ],
      "text/plain": [
       "   zone  bathrooms  bedrooms  parkingSpaces  yearlyIptu  monthlyCondoFee  \\\n",
       "0     1      2.000     3.000          2.000    1610.000          686.000   \n",
       "1     1      5.000     4.000          5.000   18900.000         6230.000   \n",
       "2     3      1.000     3.000          2.000     489.000         1120.000   \n",
       "3     5      4.000     4.000          2.000       0.000            0.000   \n",
       "4     1      0.000     4.000          3.000    6300.000         1400.000   \n",
       "\n",
       "   suites    area  \n",
       "0   1.000  80.000  \n",
       "1   4.000 332.000  \n",
       "2   0.000  94.000  \n",
       "3   3.000 141.000  \n",
       "4   4.000 188.000  "
      ]
     },
     "execution_count": 104,
     "metadata": {},
     "output_type": "execute_result"
    }
   ],
   "source": [
    "allData.head()"
   ]
  },
  {
   "cell_type": "markdown",
   "metadata": {},
   "source": [
    "Separando os dados de treino dos dados de teste"
   ]
  },
  {
   "cell_type": "code",
   "execution_count": 105,
   "metadata": {},
   "outputs": [],
   "source": [
    "trainSet = allData[:ntrain]\n",
    "testSet = allData[ntrain:]"
   ]
  },
  {
   "cell_type": "code",
   "execution_count": 106,
   "metadata": {},
   "outputs": [
    {
     "data": {
      "text/html": [
       "<div>\n",
       "<style scoped>\n",
       "    .dataframe tbody tr th:only-of-type {\n",
       "        vertical-align: middle;\n",
       "    }\n",
       "\n",
       "    .dataframe tbody tr th {\n",
       "        vertical-align: top;\n",
       "    }\n",
       "\n",
       "    .dataframe thead th {\n",
       "        text-align: right;\n",
       "    }\n",
       "</style>\n",
       "<table border=\"1\" class=\"dataframe\">\n",
       "  <thead>\n",
       "    <tr style=\"text-align: right;\">\n",
       "      <th></th>\n",
       "      <th>zone</th>\n",
       "      <th>bathrooms</th>\n",
       "      <th>bedrooms</th>\n",
       "      <th>parkingSpaces</th>\n",
       "      <th>yearlyIptu</th>\n",
       "      <th>monthlyCondoFee</th>\n",
       "      <th>suites</th>\n",
       "      <th>area</th>\n",
       "    </tr>\n",
       "  </thead>\n",
       "  <tbody>\n",
       "    <tr>\n",
       "      <th>0</th>\n",
       "      <td>1</td>\n",
       "      <td>2.000</td>\n",
       "      <td>3.000</td>\n",
       "      <td>2.000</td>\n",
       "      <td>1610.000</td>\n",
       "      <td>686.000</td>\n",
       "      <td>1.000</td>\n",
       "      <td>80.000</td>\n",
       "    </tr>\n",
       "    <tr>\n",
       "      <th>1</th>\n",
       "      <td>1</td>\n",
       "      <td>5.000</td>\n",
       "      <td>4.000</td>\n",
       "      <td>5.000</td>\n",
       "      <td>18900.000</td>\n",
       "      <td>6230.000</td>\n",
       "      <td>4.000</td>\n",
       "      <td>332.000</td>\n",
       "    </tr>\n",
       "    <tr>\n",
       "      <th>2</th>\n",
       "      <td>3</td>\n",
       "      <td>1.000</td>\n",
       "      <td>3.000</td>\n",
       "      <td>2.000</td>\n",
       "      <td>489.000</td>\n",
       "      <td>1120.000</td>\n",
       "      <td>0.000</td>\n",
       "      <td>94.000</td>\n",
       "    </tr>\n",
       "    <tr>\n",
       "      <th>3</th>\n",
       "      <td>5</td>\n",
       "      <td>4.000</td>\n",
       "      <td>4.000</td>\n",
       "      <td>2.000</td>\n",
       "      <td>0.000</td>\n",
       "      <td>0.000</td>\n",
       "      <td>3.000</td>\n",
       "      <td>141.000</td>\n",
       "    </tr>\n",
       "    <tr>\n",
       "      <th>4</th>\n",
       "      <td>1</td>\n",
       "      <td>0.000</td>\n",
       "      <td>4.000</td>\n",
       "      <td>3.000</td>\n",
       "      <td>6300.000</td>\n",
       "      <td>1400.000</td>\n",
       "      <td>4.000</td>\n",
       "      <td>188.000</td>\n",
       "    </tr>\n",
       "  </tbody>\n",
       "</table>\n",
       "</div>"
      ],
      "text/plain": [
       "   zone  bathrooms  bedrooms  parkingSpaces  yearlyIptu  monthlyCondoFee  \\\n",
       "0     1      2.000     3.000          2.000    1610.000          686.000   \n",
       "1     1      5.000     4.000          5.000   18900.000         6230.000   \n",
       "2     3      1.000     3.000          2.000     489.000         1120.000   \n",
       "3     5      4.000     4.000          2.000       0.000            0.000   \n",
       "4     1      0.000     4.000          3.000    6300.000         1400.000   \n",
       "\n",
       "   suites    area  \n",
       "0   1.000  80.000  \n",
       "1   4.000 332.000  \n",
       "2   0.000  94.000  \n",
       "3   3.000 141.000  \n",
       "4   4.000 188.000  "
      ]
     },
     "execution_count": 106,
     "metadata": {},
     "output_type": "execute_result"
    }
   ],
   "source": [
    "trainSet.head()"
   ]
  },
  {
   "cell_type": "code",
   "execution_count": 107,
   "metadata": {},
   "outputs": [
    {
     "data": {
      "text/html": [
       "<div>\n",
       "<style scoped>\n",
       "    .dataframe tbody tr th:only-of-type {\n",
       "        vertical-align: middle;\n",
       "    }\n",
       "\n",
       "    .dataframe tbody tr th {\n",
       "        vertical-align: top;\n",
       "    }\n",
       "\n",
       "    .dataframe thead th {\n",
       "        text-align: right;\n",
       "    }\n",
       "</style>\n",
       "<table border=\"1\" class=\"dataframe\">\n",
       "  <thead>\n",
       "    <tr style=\"text-align: right;\">\n",
       "      <th></th>\n",
       "      <th>zone</th>\n",
       "      <th>bathrooms</th>\n",
       "      <th>bedrooms</th>\n",
       "      <th>parkingSpaces</th>\n",
       "      <th>yearlyIptu</th>\n",
       "      <th>monthlyCondoFee</th>\n",
       "      <th>suites</th>\n",
       "      <th>area</th>\n",
       "    </tr>\n",
       "  </thead>\n",
       "  <tbody>\n",
       "    <tr>\n",
       "      <th>62742</th>\n",
       "      <td>5</td>\n",
       "      <td>1.000</td>\n",
       "      <td>1.000</td>\n",
       "      <td>1.000</td>\n",
       "      <td>105.000</td>\n",
       "      <td>700.000</td>\n",
       "      <td>0.000</td>\n",
       "      <td>47.000</td>\n",
       "    </tr>\n",
       "    <tr>\n",
       "      <th>62743</th>\n",
       "      <td>2</td>\n",
       "      <td>0.000</td>\n",
       "      <td>2.000</td>\n",
       "      <td>1.000</td>\n",
       "      <td>28.000</td>\n",
       "      <td>0.000</td>\n",
       "      <td>0.000</td>\n",
       "      <td>55.000</td>\n",
       "    </tr>\n",
       "    <tr>\n",
       "      <th>62744</th>\n",
       "      <td>4</td>\n",
       "      <td>3.000</td>\n",
       "      <td>3.000</td>\n",
       "      <td>2.000</td>\n",
       "      <td>0.000</td>\n",
       "      <td>686.000</td>\n",
       "      <td>1.000</td>\n",
       "      <td>66.000</td>\n",
       "    </tr>\n",
       "    <tr>\n",
       "      <th>62745</th>\n",
       "      <td>1</td>\n",
       "      <td>4.000</td>\n",
       "      <td>3.000</td>\n",
       "      <td>3.000</td>\n",
       "      <td>112.000</td>\n",
       "      <td>770.000</td>\n",
       "      <td>3.000</td>\n",
       "      <td>145.000</td>\n",
       "    </tr>\n",
       "    <tr>\n",
       "      <th>62746</th>\n",
       "      <td>3</td>\n",
       "      <td>2.000</td>\n",
       "      <td>2.000</td>\n",
       "      <td>1.000</td>\n",
       "      <td>84.000</td>\n",
       "      <td>472.000</td>\n",
       "      <td>1.000</td>\n",
       "      <td>76.000</td>\n",
       "    </tr>\n",
       "  </tbody>\n",
       "</table>\n",
       "</div>"
      ],
      "text/plain": [
       "       zone  bathrooms  bedrooms  parkingSpaces  yearlyIptu  monthlyCondoFee  \\\n",
       "62742     5      1.000     1.000          1.000     105.000          700.000   \n",
       "62743     2      0.000     2.000          1.000      28.000            0.000   \n",
       "62744     4      3.000     3.000          2.000       0.000          686.000   \n",
       "62745     1      4.000     3.000          3.000     112.000          770.000   \n",
       "62746     3      2.000     2.000          1.000      84.000          472.000   \n",
       "\n",
       "       suites    area  \n",
       "62742   0.000  47.000  \n",
       "62743   0.000  55.000  \n",
       "62744   1.000  66.000  \n",
       "62745   3.000 145.000  \n",
       "62746   1.000  76.000  "
      ]
     },
     "execution_count": 107,
     "metadata": {},
     "output_type": "execute_result"
    }
   ],
   "source": [
    "testSet.head()"
   ]
  },
  {
   "cell_type": "markdown",
   "metadata": {},
   "source": [
    "# Modelling"
   ]
  },
  {
   "cell_type": "markdown",
   "metadata": {},
   "source": [
    "Importando as bibliotecas necessárias"
   ]
  },
  {
   "cell_type": "code",
   "execution_count": 108,
   "metadata": {},
   "outputs": [],
   "source": [
    "from sklearn.linear_model import ElasticNet, Lasso,  BayesianRidge, LassoLarsIC\n",
    "from sklearn.ensemble import RandomForestRegressor,  GradientBoostingRegressor\n",
    "from sklearn.kernel_ridge import KernelRidge\n",
    "from sklearn.pipeline import make_pipeline\n",
    "from sklearn.preprocessing import RobustScaler\n",
    "from sklearn.base import BaseEstimator, TransformerMixin, RegressorMixin, clone\n",
    "from sklearn.model_selection import KFold, cross_val_score, train_test_split\n",
    "from sklearn.metrics import mean_squared_error\n",
    "import xgboost as xgb\n",
    "import lightgbm as lgb"
   ]
  },
  {
   "cell_type": "markdown",
   "metadata": {},
   "source": [
    "## Cross Validation"
   ]
  },
  {
   "cell_type": "markdown",
   "metadata": {},
   "source": [
    "Utilizou-se a função cross_val_score da biblioteca Sklearn, porém ela não possui um modo aleatório. Com isso adicionou-se as seguintes linhas de códiog para realizar esta função."
   ]
  },
  {
   "cell_type": "code",
   "execution_count": 109,
   "metadata": {},
   "outputs": [],
   "source": [
    "nFolds = 5\n",
    "\n",
    "def rmsle_cv(model):\n",
    "    kf = KFold(nFolds, shuffle = True, random_state = 42).get_n_splits(trainSet.values)\n",
    "    rmse = np.sqrt(-cross_val_score(model, trainSet.values, yTrain, scoring = \"neg_mean_squared_error\", cv = kf))\n",
    "    return(rmse)"
   ]
  },
  {
   "cell_type": "markdown",
   "metadata": {},
   "source": [
    "## Modelos"
   ]
  },
  {
   "cell_type": "markdown",
   "metadata": {},
   "source": [
    "A seguir são apresentados os modelos que serão utilizados"
   ]
  },
  {
   "cell_type": "markdown",
   "metadata": {},
   "source": [
    "### LASSO Regression"
   ]
  },
  {
   "cell_type": "code",
   "execution_count": 110,
   "metadata": {},
   "outputs": [],
   "source": [
    "lasso = make_pipeline(RobustScaler(), Lasso(alpha = 0.0005, random_state = 1))"
   ]
  },
  {
   "cell_type": "markdown",
   "metadata": {},
   "source": [
    "### Elastic Net Regression"
   ]
  },
  {
   "cell_type": "code",
   "execution_count": 111,
   "metadata": {},
   "outputs": [],
   "source": [
    "ENet = make_pipeline(RobustScaler(), ElasticNet(alpha = 0.0005, l1_ratio = .9, random_state = 3))"
   ]
  },
  {
   "cell_type": "markdown",
   "metadata": {},
   "source": [
    "### Gradient Boosting Regression"
   ]
  },
  {
   "cell_type": "code",
   "execution_count": 113,
   "metadata": {},
   "outputs": [],
   "source": [
    "GBoost = GradientBoostingRegressor(n_estimators = 3000, learning_rate = 0.05,\n",
    "                                   max_depth = 4, max_features = 'sqrt',\n",
    "                                   min_samples_leaf = 15, min_samples_split = 10, \n",
    "                                   loss = 'huber', random_state = 5)"
   ]
  },
  {
   "cell_type": "markdown",
   "metadata": {},
   "source": [
    "### XGBoost"
   ]
  },
  {
   "cell_type": "code",
   "execution_count": 114,
   "metadata": {},
   "outputs": [],
   "source": [
    "modelXGB = xgb.XGBRegressor(colsample_bytree = 0.4603, gamma = 0.0468, \n",
    "                             learning_rate = 0.05, max_depth = 3, \n",
    "                             min_child_weight = 1.7817, n_estimators = 2200,\n",
    "                             reg_alpha = 0.4640, reg_lambda = 0.8571,\n",
    "                             subsample = 0.5213, silent = 1,\n",
    "                             random_state = 7, nthread = -1)"
   ]
  },
  {
   "cell_type": "markdown",
   "metadata": {},
   "source": [
    "## LightGBM"
   ]
  },
  {
   "cell_type": "code",
   "execution_count": 116,
   "metadata": {},
   "outputs": [],
   "source": [
    "modelLGB = lgb.LGBMRegressor(objective='regression',num_leaves=5,\n",
    "                              learning_rate=0.05, n_estimators=720,\n",
    "                              max_bin = 55, bagging_fraction = 0.8,\n",
    "                              bagging_freq = 5, feature_fraction = 0.2319,\n",
    "                              feature_fraction_seed=9, bagging_seed=9,\n",
    "                              min_data_in_leaf =6, min_sum_hessian_in_leaf = 11)"
   ]
  },
  {
   "cell_type": "markdown",
   "metadata": {},
   "source": [
    "## Performance dos modelos"
   ]
  },
  {
   "cell_type": "markdown",
   "metadata": {},
   "source": [
    "Utilizando a função rmsle_cv verificou-se o erro de cada modelo dentro do dataset de treino"
   ]
  },
  {
   "cell_type": "code",
   "execution_count": 117,
   "metadata": {},
   "outputs": [
    {
     "name": "stdout",
     "output_type": "stream",
     "text": [
      "\n",
      "Lasso score: 0.4868 (0.0289)\n",
      "\n"
     ]
    }
   ],
   "source": [
    "score = rmsle_cv(lasso)\n",
    "print(\"\\nLasso score: {:.4f} ({:.4f})\\n\".format(score.mean(), score.std()))"
   ]
  },
  {
   "cell_type": "code",
   "execution_count": 118,
   "metadata": {},
   "outputs": [
    {
     "name": "stdout",
     "output_type": "stream",
     "text": [
      "ElasticNet score: 0.4868 (0.0289)\n",
      "\n"
     ]
    }
   ],
   "source": [
    "score = rmsle_cv(ENet)\n",
    "print(\"ElasticNet score: {:.4f} ({:.4f})\\n\".format(score.mean(), score.std()))"
   ]
  },
  {
   "cell_type": "code",
   "execution_count": 120,
   "metadata": {},
   "outputs": [
    {
     "name": "stdout",
     "output_type": "stream",
     "text": [
      "Gradient Boosting score: 0.3023 (0.0485)\n",
      "\n"
     ]
    }
   ],
   "source": [
    "score = rmsle_cv(GBoost)\n",
    "print(\"Gradient Boosting score: {:.4f} ({:.4f})\\n\".format(score.mean(), score.std()))"
   ]
  },
  {
   "cell_type": "code",
   "execution_count": 121,
   "metadata": {},
   "outputs": [
    {
     "name": "stdout",
     "output_type": "stream",
     "text": [
      "Xgboost score: 0.3096 (0.0461)\n",
      "\n"
     ]
    }
   ],
   "source": [
    "score = rmsle_cv(modelXGB)\n",
    "print(\"Xgboost score: {:.4f} ({:.4f})\\n\".format(score.mean(), score.std()))"
   ]
  },
  {
   "cell_type": "code",
   "execution_count": 122,
   "metadata": {},
   "outputs": [
    {
     "name": "stdout",
     "output_type": "stream",
     "text": [
      "LGBM score: 0.3493 (0.0389)\n",
      "\n"
     ]
    }
   ],
   "source": [
    "score = rmsle_cv(modelLGB)\n",
    "print(\"LGBM score: {:.4f} ({:.4f})\\n\" .format(score.mean(), score.std()))"
   ]
  },
  {
   "cell_type": "markdown",
   "metadata": {},
   "source": [
    "De acordo com os testes vemos que o modelo que performou melhor foi Gradient Boosting Regression. "
   ]
  },
  {
   "cell_type": "markdown",
   "metadata": {},
   "source": [
    "Agora definimos a função que determinha o erro do modelo"
   ]
  },
  {
   "cell_type": "code",
   "execution_count": 127,
   "metadata": {},
   "outputs": [],
   "source": [
    "def rmsle(y, yPred):\n",
    "    return np.sqrt(mean_squared_error(y, yPred))"
   ]
  },
  {
   "cell_type": "code",
   "execution_count": 128,
   "metadata": {},
   "outputs": [
    {
     "name": "stdout",
     "output_type": "stream",
     "text": [
      "0.26599562580447544\n"
     ]
    }
   ],
   "source": [
    "GBoost.fit(trainSet, yTrain)\n",
    "GBoostTrainPred = GBoost.predict(trainSet)\n",
    "GBoostPred = np.expm1(GBoost.predict(testSet.values))\n",
    "print(rmsle(yTrain, GBoostTrainPred))"
   ]
  },
  {
   "cell_type": "markdown",
   "metadata": {},
   "source": [
    "# Performace por região"
   ]
  },
  {
   "cell_type": "code",
   "execution_count": 173,
   "metadata": {},
   "outputs": [],
   "source": [
    "x = pd.DataFrame(yTrain,columns = ['priceReal'])\n",
    "y = pd.DataFrame(trainSet.zone,columns = ['zone'])\n",
    "z = pd.DataFrame(GBoostTrainPred,columns = ['pricePred'])\n",
    "perform = pd.concat([y,x,z], axis = 1)\n",
    "   "
   ]
  },
  {
   "cell_type": "markdown",
   "metadata": {},
   "source": [
    "## Zona Sul"
   ]
  },
  {
   "cell_type": "code",
   "execution_count": 184,
   "metadata": {},
   "outputs": [
    {
     "data": {
      "text/plain": [
       "0.306182570112786"
      ]
     },
     "execution_count": 184,
     "metadata": {},
     "output_type": "execute_result"
    }
   ],
   "source": [
    "rmsle(perform[perform[\"zone\"]==1].priceReal,perform[perform[\"zone\"]==1].pricePred)"
   ]
  },
  {
   "cell_type": "markdown",
   "metadata": {},
   "source": [
    "## Zona Leste"
   ]
  },
  {
   "cell_type": "code",
   "execution_count": 185,
   "metadata": {},
   "outputs": [
    {
     "data": {
      "text/plain": [
       "0.22364517576342338"
      ]
     },
     "execution_count": 185,
     "metadata": {},
     "output_type": "execute_result"
    }
   ],
   "source": [
    "rmsle(perform[perform[\"zone\"]==2].priceReal,perform[perform[\"zone\"]==2].pricePred)"
   ]
  },
  {
   "cell_type": "markdown",
   "metadata": {},
   "source": [
    "## Zona Oeste"
   ]
  },
  {
   "cell_type": "code",
   "execution_count": 186,
   "metadata": {},
   "outputs": [
    {
     "data": {
      "text/plain": [
       "0.2825726479435041"
      ]
     },
     "execution_count": 186,
     "metadata": {},
     "output_type": "execute_result"
    }
   ],
   "source": [
    "rmsle(perform[perform[\"zone\"]==3].priceReal,perform[perform[\"zone\"]==3].pricePred)"
   ]
  },
  {
   "cell_type": "markdown",
   "metadata": {},
   "source": [
    "## Zona Norte"
   ]
  },
  {
   "cell_type": "code",
   "execution_count": 187,
   "metadata": {},
   "outputs": [
    {
     "data": {
      "text/plain": [
       "0.20329499718399519"
      ]
     },
     "execution_count": 187,
     "metadata": {},
     "output_type": "execute_result"
    }
   ],
   "source": [
    "rmsle(perform[perform[\"zone\"]==4].priceReal,perform[perform[\"zone\"]==4].pricePred)"
   ]
  },
  {
   "cell_type": "markdown",
   "metadata": {},
   "source": [
    "## Centro"
   ]
  },
  {
   "cell_type": "code",
   "execution_count": 188,
   "metadata": {},
   "outputs": [
    {
     "data": {
      "text/plain": [
       "0.2428521200185569"
      ]
     },
     "execution_count": 188,
     "metadata": {},
     "output_type": "execute_result"
    }
   ],
   "source": [
    "rmsle(perform[perform[\"zone\"]==5].priceReal,perform[perform[\"zone\"]==5].pricePred)"
   ]
  },
  {
   "cell_type": "markdown",
   "metadata": {},
   "source": [
    "## Fora SP"
   ]
  },
  {
   "cell_type": "code",
   "execution_count": 189,
   "metadata": {},
   "outputs": [
    {
     "data": {
      "text/plain": [
       "0.17523545690808276"
      ]
     },
     "execution_count": 189,
     "metadata": {},
     "output_type": "execute_result"
    }
   ],
   "source": [
    "rmsle(perform[perform[\"zone\"]==6].priceReal,perform[perform[\"zone\"]==6].pricePred)"
   ]
  },
  {
   "cell_type": "markdown",
   "metadata": {},
   "source": [
    "## Sem Zona"
   ]
  },
  {
   "cell_type": "code",
   "execution_count": 190,
   "metadata": {},
   "outputs": [
    {
     "data": {
      "text/plain": [
       "0.2205375565262741"
      ]
     },
     "execution_count": 190,
     "metadata": {},
     "output_type": "execute_result"
    }
   ],
   "source": [
    "rmsle(perform[perform[\"zone\"]==7].priceReal,perform[perform[\"zone\"]==7].pricePred)"
   ]
  },
  {
   "cell_type": "markdown",
   "metadata": {},
   "source": [
    "Com isso verificou-se que o menor erro ocorre na região fora de SP"
   ]
  },
  {
   "cell_type": "markdown",
   "metadata": {},
   "source": [
    "# Submission"
   ]
  },
  {
   "cell_type": "code",
   "execution_count": 191,
   "metadata": {},
   "outputs": [],
   "source": [
    "sub = pd.DataFrame()\n",
    "sub['id'] = testData.id\n",
    "sub['price'] = GBoostPred\n",
    "sub.to_csv('HousePrice.csv',index=False)"
   ]
  },
  {
   "cell_type": "code",
   "execution_count": 136,
   "metadata": {},
   "outputs": [
    {
     "data": {
      "text/html": [
       "<div>\n",
       "<style scoped>\n",
       "    .dataframe tbody tr th:only-of-type {\n",
       "        vertical-align: middle;\n",
       "    }\n",
       "\n",
       "    .dataframe tbody tr th {\n",
       "        vertical-align: top;\n",
       "    }\n",
       "\n",
       "    .dataframe thead th {\n",
       "        text-align: right;\n",
       "    }\n",
       "</style>\n",
       "<table border=\"1\" class=\"dataframe\">\n",
       "  <thead>\n",
       "    <tr style=\"text-align: right;\">\n",
       "      <th></th>\n",
       "      <th>id</th>\n",
       "      <th>price</th>\n",
       "    </tr>\n",
       "  </thead>\n",
       "  <tbody>\n",
       "    <tr>\n",
       "      <th>0</th>\n",
       "      <td>89224365f8</td>\n",
       "      <td>331869.142</td>\n",
       "    </tr>\n",
       "    <tr>\n",
       "      <th>1</th>\n",
       "      <td>363731333f</td>\n",
       "      <td>205255.730</td>\n",
       "    </tr>\n",
       "    <tr>\n",
       "      <th>2</th>\n",
       "      <td>6e6283378a</td>\n",
       "      <td>500101.340</td>\n",
       "    </tr>\n",
       "    <tr>\n",
       "      <th>3</th>\n",
       "      <td>4c29a27f44</td>\n",
       "      <td>1120061.677</td>\n",
       "    </tr>\n",
       "    <tr>\n",
       "      <th>4</th>\n",
       "      <td>7b16cf224b</td>\n",
       "      <td>414086.701</td>\n",
       "    </tr>\n",
       "    <tr>\n",
       "      <th>5</th>\n",
       "      <td>c0c699ebcc</td>\n",
       "      <td>336461.713</td>\n",
       "    </tr>\n",
       "    <tr>\n",
       "      <th>6</th>\n",
       "      <td>d36b41a815</td>\n",
       "      <td>201445.627</td>\n",
       "    </tr>\n",
       "    <tr>\n",
       "      <th>7</th>\n",
       "      <td>9be92984b9</td>\n",
       "      <td>591690.406</td>\n",
       "    </tr>\n",
       "    <tr>\n",
       "      <th>8</th>\n",
       "      <td>f774771058</td>\n",
       "      <td>244875.805</td>\n",
       "    </tr>\n",
       "    <tr>\n",
       "      <th>9</th>\n",
       "      <td>0c4add382a</td>\n",
       "      <td>1811347.758</td>\n",
       "    </tr>\n",
       "    <tr>\n",
       "      <th>10</th>\n",
       "      <td>8d6b937f00</td>\n",
       "      <td>233228.219</td>\n",
       "    </tr>\n",
       "    <tr>\n",
       "      <th>11</th>\n",
       "      <td>eb15c43587</td>\n",
       "      <td>569977.601</td>\n",
       "    </tr>\n",
       "    <tr>\n",
       "      <th>12</th>\n",
       "      <td>b3bffc4413</td>\n",
       "      <td>664232.394</td>\n",
       "    </tr>\n",
       "    <tr>\n",
       "      <th>13</th>\n",
       "      <td>edf9c48708</td>\n",
       "      <td>403718.071</td>\n",
       "    </tr>\n",
       "    <tr>\n",
       "      <th>14</th>\n",
       "      <td>50a0189faf</td>\n",
       "      <td>261618.464</td>\n",
       "    </tr>\n",
       "    <tr>\n",
       "      <th>15</th>\n",
       "      <td>de4b79dead</td>\n",
       "      <td>225645.755</td>\n",
       "    </tr>\n",
       "    <tr>\n",
       "      <th>16</th>\n",
       "      <td>152f94bd3b</td>\n",
       "      <td>522795.041</td>\n",
       "    </tr>\n",
       "    <tr>\n",
       "      <th>17</th>\n",
       "      <td>b7736872b6</td>\n",
       "      <td>619852.833</td>\n",
       "    </tr>\n",
       "    <tr>\n",
       "      <th>18</th>\n",
       "      <td>db0b5c7a47</td>\n",
       "      <td>896834.123</td>\n",
       "    </tr>\n",
       "    <tr>\n",
       "      <th>19</th>\n",
       "      <td>a8dd281b11</td>\n",
       "      <td>265085.038</td>\n",
       "    </tr>\n",
       "    <tr>\n",
       "      <th>20</th>\n",
       "      <td>281151242b</td>\n",
       "      <td>653932.961</td>\n",
       "    </tr>\n",
       "    <tr>\n",
       "      <th>21</th>\n",
       "      <td>2db79d7c7c</td>\n",
       "      <td>220722.802</td>\n",
       "    </tr>\n",
       "    <tr>\n",
       "      <th>22</th>\n",
       "      <td>fe82d83b82</td>\n",
       "      <td>1133852.306</td>\n",
       "    </tr>\n",
       "    <tr>\n",
       "      <th>23</th>\n",
       "      <td>d7db923b3c</td>\n",
       "      <td>196078.307</td>\n",
       "    </tr>\n",
       "    <tr>\n",
       "      <th>24</th>\n",
       "      <td>bc9bd0ab2b</td>\n",
       "      <td>334960.381</td>\n",
       "    </tr>\n",
       "    <tr>\n",
       "      <th>25</th>\n",
       "      <td>7ca2b5fb45</td>\n",
       "      <td>491716.717</td>\n",
       "    </tr>\n",
       "    <tr>\n",
       "      <th>26</th>\n",
       "      <td>191c9ed2b9</td>\n",
       "      <td>338614.427</td>\n",
       "    </tr>\n",
       "    <tr>\n",
       "      <th>27</th>\n",
       "      <td>38de2dc1a8</td>\n",
       "      <td>384965.568</td>\n",
       "    </tr>\n",
       "    <tr>\n",
       "      <th>28</th>\n",
       "      <td>55f24b8f6c</td>\n",
       "      <td>1789335.339</td>\n",
       "    </tr>\n",
       "    <tr>\n",
       "      <th>29</th>\n",
       "      <td>38e7d3b079</td>\n",
       "      <td>266862.148</td>\n",
       "    </tr>\n",
       "    <tr>\n",
       "      <th>...</th>\n",
       "      <td>...</td>\n",
       "      <td>...</td>\n",
       "    </tr>\n",
       "    <tr>\n",
       "      <th>16006</th>\n",
       "      <td>890172713e</td>\n",
       "      <td>1032179.835</td>\n",
       "    </tr>\n",
       "    <tr>\n",
       "      <th>16007</th>\n",
       "      <td>3be61c9db3</td>\n",
       "      <td>421553.063</td>\n",
       "    </tr>\n",
       "    <tr>\n",
       "      <th>16008</th>\n",
       "      <td>8f5f4ef795</td>\n",
       "      <td>341476.442</td>\n",
       "    </tr>\n",
       "    <tr>\n",
       "      <th>16009</th>\n",
       "      <td>24dbc4d973</td>\n",
       "      <td>278473.935</td>\n",
       "    </tr>\n",
       "    <tr>\n",
       "      <th>16010</th>\n",
       "      <td>d6c6b1e4e0</td>\n",
       "      <td>488163.138</td>\n",
       "    </tr>\n",
       "    <tr>\n",
       "      <th>16011</th>\n",
       "      <td>2cc4e9305b</td>\n",
       "      <td>180109.813</td>\n",
       "    </tr>\n",
       "    <tr>\n",
       "      <th>16012</th>\n",
       "      <td>bb29b557f0</td>\n",
       "      <td>336110.822</td>\n",
       "    </tr>\n",
       "    <tr>\n",
       "      <th>16013</th>\n",
       "      <td>791ce2322a</td>\n",
       "      <td>358032.508</td>\n",
       "    </tr>\n",
       "    <tr>\n",
       "      <th>16014</th>\n",
       "      <td>cb77d53d64</td>\n",
       "      <td>525568.233</td>\n",
       "    </tr>\n",
       "    <tr>\n",
       "      <th>16015</th>\n",
       "      <td>9227376579</td>\n",
       "      <td>1556671.127</td>\n",
       "    </tr>\n",
       "    <tr>\n",
       "      <th>16016</th>\n",
       "      <td>a54f0ec4d0</td>\n",
       "      <td>534283.382</td>\n",
       "    </tr>\n",
       "    <tr>\n",
       "      <th>16017</th>\n",
       "      <td>d5e3c30686</td>\n",
       "      <td>373820.636</td>\n",
       "    </tr>\n",
       "    <tr>\n",
       "      <th>16018</th>\n",
       "      <td>46bce4293f</td>\n",
       "      <td>433857.170</td>\n",
       "    </tr>\n",
       "    <tr>\n",
       "      <th>16019</th>\n",
       "      <td>2a1a423df9</td>\n",
       "      <td>251163.638</td>\n",
       "    </tr>\n",
       "    <tr>\n",
       "      <th>16020</th>\n",
       "      <td>94ed242502</td>\n",
       "      <td>721888.350</td>\n",
       "    </tr>\n",
       "    <tr>\n",
       "      <th>16021</th>\n",
       "      <td>9c12b16ae2</td>\n",
       "      <td>4524904.196</td>\n",
       "    </tr>\n",
       "    <tr>\n",
       "      <th>16022</th>\n",
       "      <td>083e6ac061</td>\n",
       "      <td>188007.856</td>\n",
       "    </tr>\n",
       "    <tr>\n",
       "      <th>16023</th>\n",
       "      <td>53bc7d72a9</td>\n",
       "      <td>471693.219</td>\n",
       "    </tr>\n",
       "    <tr>\n",
       "      <th>16024</th>\n",
       "      <td>115424f6d8</td>\n",
       "      <td>2320077.854</td>\n",
       "    </tr>\n",
       "    <tr>\n",
       "      <th>16025</th>\n",
       "      <td>48dfc8beef</td>\n",
       "      <td>888546.922</td>\n",
       "    </tr>\n",
       "    <tr>\n",
       "      <th>16026</th>\n",
       "      <td>396ec80c1e</td>\n",
       "      <td>228215.772</td>\n",
       "    </tr>\n",
       "    <tr>\n",
       "      <th>16027</th>\n",
       "      <td>ccda21c657</td>\n",
       "      <td>468981.404</td>\n",
       "    </tr>\n",
       "    <tr>\n",
       "      <th>16028</th>\n",
       "      <td>ff6052145f</td>\n",
       "      <td>274039.331</td>\n",
       "    </tr>\n",
       "    <tr>\n",
       "      <th>16029</th>\n",
       "      <td>466d2c78a4</td>\n",
       "      <td>5454508.274</td>\n",
       "    </tr>\n",
       "    <tr>\n",
       "      <th>16030</th>\n",
       "      <td>11277573e7</td>\n",
       "      <td>286800.675</td>\n",
       "    </tr>\n",
       "    <tr>\n",
       "      <th>16031</th>\n",
       "      <td>395661ad98</td>\n",
       "      <td>259921.172</td>\n",
       "    </tr>\n",
       "    <tr>\n",
       "      <th>16032</th>\n",
       "      <td>83e8b022df</td>\n",
       "      <td>198158.696</td>\n",
       "    </tr>\n",
       "    <tr>\n",
       "      <th>16033</th>\n",
       "      <td>95d7238b36</td>\n",
       "      <td>370926.398</td>\n",
       "    </tr>\n",
       "    <tr>\n",
       "      <th>16034</th>\n",
       "      <td>2ba8249a93</td>\n",
       "      <td>487559.631</td>\n",
       "    </tr>\n",
       "    <tr>\n",
       "      <th>16035</th>\n",
       "      <td>6eff844836</td>\n",
       "      <td>1839846.678</td>\n",
       "    </tr>\n",
       "  </tbody>\n",
       "</table>\n",
       "<p>16036 rows × 2 columns</p>\n",
       "</div>"
      ],
      "text/plain": [
       "               id       price\n",
       "0      89224365f8  331869.142\n",
       "1      363731333f  205255.730\n",
       "2      6e6283378a  500101.340\n",
       "3      4c29a27f44 1120061.677\n",
       "4      7b16cf224b  414086.701\n",
       "5      c0c699ebcc  336461.713\n",
       "6      d36b41a815  201445.627\n",
       "7      9be92984b9  591690.406\n",
       "8      f774771058  244875.805\n",
       "9      0c4add382a 1811347.758\n",
       "10     8d6b937f00  233228.219\n",
       "11     eb15c43587  569977.601\n",
       "12     b3bffc4413  664232.394\n",
       "13     edf9c48708  403718.071\n",
       "14     50a0189faf  261618.464\n",
       "15     de4b79dead  225645.755\n",
       "16     152f94bd3b  522795.041\n",
       "17     b7736872b6  619852.833\n",
       "18     db0b5c7a47  896834.123\n",
       "19     a8dd281b11  265085.038\n",
       "20     281151242b  653932.961\n",
       "21     2db79d7c7c  220722.802\n",
       "22     fe82d83b82 1133852.306\n",
       "23     d7db923b3c  196078.307\n",
       "24     bc9bd0ab2b  334960.381\n",
       "25     7ca2b5fb45  491716.717\n",
       "26     191c9ed2b9  338614.427\n",
       "27     38de2dc1a8  384965.568\n",
       "28     55f24b8f6c 1789335.339\n",
       "29     38e7d3b079  266862.148\n",
       "...           ...         ...\n",
       "16006  890172713e 1032179.835\n",
       "16007  3be61c9db3  421553.063\n",
       "16008  8f5f4ef795  341476.442\n",
       "16009  24dbc4d973  278473.935\n",
       "16010  d6c6b1e4e0  488163.138\n",
       "16011  2cc4e9305b  180109.813\n",
       "16012  bb29b557f0  336110.822\n",
       "16013  791ce2322a  358032.508\n",
       "16014  cb77d53d64  525568.233\n",
       "16015  9227376579 1556671.127\n",
       "16016  a54f0ec4d0  534283.382\n",
       "16017  d5e3c30686  373820.636\n",
       "16018  46bce4293f  433857.170\n",
       "16019  2a1a423df9  251163.638\n",
       "16020  94ed242502  721888.350\n",
       "16021  9c12b16ae2 4524904.196\n",
       "16022  083e6ac061  188007.856\n",
       "16023  53bc7d72a9  471693.219\n",
       "16024  115424f6d8 2320077.854\n",
       "16025  48dfc8beef  888546.922\n",
       "16026  396ec80c1e  228215.772\n",
       "16027  ccda21c657  468981.404\n",
       "16028  ff6052145f  274039.331\n",
       "16029  466d2c78a4 5454508.274\n",
       "16030  11277573e7  286800.675\n",
       "16031  395661ad98  259921.172\n",
       "16032  83e8b022df  198158.696\n",
       "16033  95d7238b36  370926.398\n",
       "16034  2ba8249a93  487559.631\n",
       "16035  6eff844836 1839846.678\n",
       "\n",
       "[16036 rows x 2 columns]"
      ]
     },
     "execution_count": 136,
     "metadata": {},
     "output_type": "execute_result"
    }
   ],
   "source": [
    "sub"
   ]
  }
 ],
 "metadata": {
  "kernelspec": {
   "display_name": "Python 3",
   "language": "python",
   "name": "python3"
  },
  "language_info": {
   "codemirror_mode": {
    "name": "ipython",
    "version": 3
   },
   "file_extension": ".py",
   "mimetype": "text/x-python",
   "name": "python",
   "nbconvert_exporter": "python",
   "pygments_lexer": "ipython3",
   "version": "3.7.3"
  }
 },
 "nbformat": 4,
 "nbformat_minor": 1
}
